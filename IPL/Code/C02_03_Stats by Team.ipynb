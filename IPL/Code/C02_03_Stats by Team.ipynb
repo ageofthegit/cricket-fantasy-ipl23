{
 "cells": [
  {
   "cell_type": "code",
   "execution_count": 1,
   "id": "6571effe",
   "metadata": {},
   "outputs": [],
   "source": [
    "\n",
    "### Need to add total innings in phases of the game.\n",
    "\n",
    "import os, json\n",
    "import numpy as np, pandas as pd\n",
    "\n",
    "from pprint import pprint\n",
    "from datetime import datetime as dt\n"
   ]
  },
  {
   "cell_type": "code",
   "execution_count": 2,
   "id": "3fcd2a52",
   "metadata": {},
   "outputs": [],
   "source": [
    "\n",
    "csv_location = 'C:\\\\Users\\\\karan\\\\Documents\\\\Cricket-Analytics\\\\IPL\\\\Data\\\\ipl_json_bbb\\\\'\n",
    "exp_location = 'C:\\\\Users\\\\karan\\\\Documents\\\\Cricket-Analytics\\\\IPL\\\\Data\\\\exp\\\\'\n",
    "loc_lups = 'C:\\\\Users\\\\karan\\\\Documents\\\\Cricket-Analytics\\\\IPL\\\\Data\\\\lineups\\\\'\n"
   ]
  },
  {
   "cell_type": "code",
   "execution_count": 3,
   "id": "20c19528",
   "metadata": {},
   "outputs": [
    {
     "name": "stdout",
     "output_type": "stream",
     "text": [
      "C:\\Users\\karan\\Documents\\Cricket-Analytics\\IPL\\Data\\ipl_json_bbb\\\n",
      "\n",
      "C:\\Users\\karan\\Documents\\Cricket-Analytics\\IPL\\Data\\exp\\\n",
      "\n",
      "2023-05-05\n"
     ]
    }
   ],
   "source": [
    "\n",
    "print(csv_location)\n",
    "print()\n",
    "print(exp_location)\n",
    "print()\n",
    "print(dt.now().date())\n"
   ]
  },
  {
   "cell_type": "code",
   "execution_count": 4,
   "id": "df17e88a",
   "metadata": {},
   "outputs": [
    {
     "name": "stdout",
     "output_type": "stream",
     "text": [
      "44\n",
      "['2023_10_Sunrisers Hyderabad vs Lucknow Super Giants.csv',\n",
      " '2023_11_Rajasthan Royals vs Delhi Capitals.csv',\n",
      " '2023_12_Mumbai Indians vs Chennai Super Kings.csv',\n",
      " '2023_13_Gujarat Titans vs Kolkata Knight Riders.csv',\n",
      " '2023_14_Punjab Kings vs Sunrisers Hyderabad.csv']\n"
     ]
    }
   ],
   "source": [
    "\n",
    "folder_path = csv_location\n",
    "\n",
    "# Get a list of all files and directories in the folder\n",
    "all_files_and_dirs = os.listdir(folder_path)\n",
    "\n",
    "# Filter the list to include only files (exclude directories)\n",
    "files_only = [f for f in all_files_and_dirs if os.path.isfile(os.path.join(folder_path, f))]\n",
    "\n",
    "# Print total # of files\n",
    "print(len(files_only))\n",
    "\n",
    "# Print names of first few files \n",
    "pprint(files_only[:5])\n"
   ]
  },
  {
   "cell_type": "code",
   "execution_count": 5,
   "id": "d7caeaff",
   "metadata": {},
   "outputs": [
    {
     "name": "stdout",
     "output_type": "stream",
     "text": [
      "44\n"
     ]
    }
   ],
   "source": [
    "\n",
    "files_list = files_only\n",
    "total_files = len(files_list)\n",
    "\n",
    "#print(np.arange(total_files))\n",
    "print(total_files)\n"
   ]
  },
  {
   "cell_type": "code",
   "execution_count": 6,
   "id": "afc39671",
   "metadata": {},
   "outputs": [],
   "source": [
    "\n",
    "#All file numbers > 1359475 are #2023 IPL onwards\n",
    "#All file numbers > 1304047 are #2022 IPL onwards\n"
   ]
  },
  {
   "cell_type": "code",
   "execution_count": 7,
   "id": "a6cfe62b",
   "metadata": {},
   "outputs": [
    {
     "name": "stdout",
     "output_type": "stream",
     "text": [
      "(10796, 20)\n"
     ]
    }
   ],
   "source": [
    "\n",
    "# initialize an empty DataFrame to store all the data\n",
    "bbb_master_df = pd.DataFrame()\n",
    "\n",
    "# iterate through each file in the directory\n",
    "for file_name in os.listdir(csv_location):\n",
    "    if file_name.endswith('.csv'):\n",
    "        # read the CSV file into a DataFrame\n",
    "        file_path = os.path.join(csv_location, file_name)\n",
    "        df_temp = pd.read_csv(file_path)\n",
    "        \n",
    "        # append the data to the master DataFrame\n",
    "        bbb_master_df = bbb_master_df.append(df_temp)\n",
    "\n",
    "# print the master DataFrame\n",
    "print(bbb_master_df.shape)\n"
   ]
  },
  {
   "cell_type": "code",
   "execution_count": 8,
   "id": "5aef0d10",
   "metadata": {},
   "outputs": [
    {
     "name": "stdout",
     "output_type": "stream",
     "text": [
      "['inn', 'bat_tm', 'batnum', 'bat', 'ball', 'over_num', 'bow', 'runs', 'wkt', 'wkt_how', 'b.cnt', 'f.ov.powp', 'f.ov.midd', 'f.ov.deat', 'm.grnd', 'm.date', 'ss', 'm.type', 'm.num', 'm.vs']\n"
     ]
    }
   ],
   "source": [
    "\n",
    "print(bbb_master_df.columns.values.tolist())\n"
   ]
  },
  {
   "cell_type": "code",
   "execution_count": 9,
   "id": "83679e36",
   "metadata": {},
   "outputs": [
    {
     "data": {
      "text/html": [
       "<div>\n",
       "<style scoped>\n",
       "    .dataframe tbody tr th:only-of-type {\n",
       "        vertical-align: middle;\n",
       "    }\n",
       "\n",
       "    .dataframe tbody tr th {\n",
       "        vertical-align: top;\n",
       "    }\n",
       "\n",
       "    .dataframe thead th {\n",
       "        text-align: right;\n",
       "    }\n",
       "</style>\n",
       "<table border=\"1\" class=\"dataframe\">\n",
       "  <thead>\n",
       "    <tr style=\"text-align: right;\">\n",
       "      <th></th>\n",
       "      <th>inn</th>\n",
       "      <th>bat_tm</th>\n",
       "      <th>batnum</th>\n",
       "      <th>bat</th>\n",
       "      <th>ball</th>\n",
       "      <th>over_num</th>\n",
       "      <th>bow</th>\n",
       "      <th>runs</th>\n",
       "      <th>wkt</th>\n",
       "      <th>wkt_how</th>\n",
       "      <th>b.cnt</th>\n",
       "      <th>f.ov.powp</th>\n",
       "      <th>f.ov.midd</th>\n",
       "      <th>f.ov.deat</th>\n",
       "      <th>m.grnd</th>\n",
       "      <th>m.date</th>\n",
       "      <th>ss</th>\n",
       "      <th>m.type</th>\n",
       "      <th>m.num</th>\n",
       "      <th>m.vs</th>\n",
       "    </tr>\n",
       "  </thead>\n",
       "  <tbody>\n",
       "    <tr>\n",
       "      <th>0</th>\n",
       "      <td>1</td>\n",
       "      <td>Sunrisers Hyderabad</td>\n",
       "      <td>1</td>\n",
       "      <td>Anmolpreet Singh</td>\n",
       "      <td>0</td>\n",
       "      <td>0</td>\n",
       "      <td>KR Mayers</td>\n",
       "      <td>1</td>\n",
       "      <td>0</td>\n",
       "      <td>NaN</td>\n",
       "      <td>1</td>\n",
       "      <td>1</td>\n",
       "      <td>0</td>\n",
       "      <td>0</td>\n",
       "      <td>Lucknow</td>\n",
       "      <td>2023-04-07</td>\n",
       "      <td>2023</td>\n",
       "      <td>T20</td>\n",
       "      <td>10</td>\n",
       "      <td>Sunrisers Hyderabad vs Lucknow Super Giants</td>\n",
       "    </tr>\n",
       "    <tr>\n",
       "      <th>1</th>\n",
       "      <td>1</td>\n",
       "      <td>Sunrisers Hyderabad</td>\n",
       "      <td>2</td>\n",
       "      <td>MA Agarwal</td>\n",
       "      <td>1</td>\n",
       "      <td>0</td>\n",
       "      <td>KR Mayers</td>\n",
       "      <td>1</td>\n",
       "      <td>0</td>\n",
       "      <td>NaN</td>\n",
       "      <td>1</td>\n",
       "      <td>1</td>\n",
       "      <td>0</td>\n",
       "      <td>0</td>\n",
       "      <td>Lucknow</td>\n",
       "      <td>2023-04-07</td>\n",
       "      <td>2023</td>\n",
       "      <td>T20</td>\n",
       "      <td>10</td>\n",
       "      <td>Sunrisers Hyderabad vs Lucknow Super Giants</td>\n",
       "    </tr>\n",
       "    <tr>\n",
       "      <th>2</th>\n",
       "      <td>1</td>\n",
       "      <td>Sunrisers Hyderabad</td>\n",
       "      <td>1</td>\n",
       "      <td>Anmolpreet Singh</td>\n",
       "      <td>2</td>\n",
       "      <td>0</td>\n",
       "      <td>KR Mayers</td>\n",
       "      <td>1</td>\n",
       "      <td>0</td>\n",
       "      <td>NaN</td>\n",
       "      <td>1</td>\n",
       "      <td>1</td>\n",
       "      <td>0</td>\n",
       "      <td>0</td>\n",
       "      <td>Lucknow</td>\n",
       "      <td>2023-04-07</td>\n",
       "      <td>2023</td>\n",
       "      <td>T20</td>\n",
       "      <td>10</td>\n",
       "      <td>Sunrisers Hyderabad vs Lucknow Super Giants</td>\n",
       "    </tr>\n",
       "  </tbody>\n",
       "</table>\n",
       "</div>"
      ],
      "text/plain": [
       "   inn               bat_tm  batnum               bat  ball  over_num  \\\n",
       "0    1  Sunrisers Hyderabad       1  Anmolpreet Singh     0         0   \n",
       "1    1  Sunrisers Hyderabad       2        MA Agarwal     1         0   \n",
       "2    1  Sunrisers Hyderabad       1  Anmolpreet Singh     2         0   \n",
       "\n",
       "         bow  runs  wkt  wkt_how  b.cnt  f.ov.powp  f.ov.midd  f.ov.deat  \\\n",
       "0  KR Mayers     1    0      NaN      1          1          0          0   \n",
       "1  KR Mayers     1    0      NaN      1          1          0          0   \n",
       "2  KR Mayers     1    0      NaN      1          1          0          0   \n",
       "\n",
       "    m.grnd      m.date    ss m.type  m.num  \\\n",
       "0  Lucknow  2023-04-07  2023    T20     10   \n",
       "1  Lucknow  2023-04-07  2023    T20     10   \n",
       "2  Lucknow  2023-04-07  2023    T20     10   \n",
       "\n",
       "                                          m.vs  \n",
       "0  Sunrisers Hyderabad vs Lucknow Super Giants  \n",
       "1  Sunrisers Hyderabad vs Lucknow Super Giants  \n",
       "2  Sunrisers Hyderabad vs Lucknow Super Giants  "
      ]
     },
     "metadata": {},
     "output_type": "display_data"
    }
   ],
   "source": [
    "\n",
    "display(bbb_master_df.head(3))\n"
   ]
  },
  {
   "cell_type": "code",
   "execution_count": 10,
   "id": "ae6f110c",
   "metadata": {},
   "outputs": [
    {
     "data": {
      "text/html": [
       "<div>\n",
       "<style scoped>\n",
       "    .dataframe tbody tr th:only-of-type {\n",
       "        vertical-align: middle;\n",
       "    }\n",
       "\n",
       "    .dataframe tbody tr th {\n",
       "        vertical-align: top;\n",
       "    }\n",
       "\n",
       "    .dataframe thead th {\n",
       "        text-align: right;\n",
       "    }\n",
       "</style>\n",
       "<table border=\"1\" class=\"dataframe\">\n",
       "  <thead>\n",
       "    <tr style=\"text-align: right;\">\n",
       "      <th></th>\n",
       "      <th>inn</th>\n",
       "      <th>batnum</th>\n",
       "      <th>ball</th>\n",
       "      <th>over_num</th>\n",
       "      <th>runs</th>\n",
       "      <th>wkt</th>\n",
       "      <th>wkt_how</th>\n",
       "      <th>b.cnt</th>\n",
       "      <th>f.ov.powp</th>\n",
       "      <th>f.ov.midd</th>\n",
       "      <th>f.ov.deat</th>\n",
       "      <th>ss</th>\n",
       "      <th>m.num</th>\n",
       "    </tr>\n",
       "  </thead>\n",
       "  <tbody>\n",
       "    <tr>\n",
       "      <th>count</th>\n",
       "      <td>10796.000000</td>\n",
       "      <td>10796.00000</td>\n",
       "      <td>10796.000000</td>\n",
       "      <td>10796.000000</td>\n",
       "      <td>10796.000000</td>\n",
       "      <td>10796.000000</td>\n",
       "      <td>0.0</td>\n",
       "      <td>10796.000000</td>\n",
       "      <td>10796.000000</td>\n",
       "      <td>10796.000000</td>\n",
       "      <td>10796.000000</td>\n",
       "      <td>10796.0</td>\n",
       "      <td>10796.000000</td>\n",
       "    </tr>\n",
       "    <tr>\n",
       "      <th>mean</th>\n",
       "      <td>1.489904</td>\n",
       "      <td>3.80289</td>\n",
       "      <td>2.640793</td>\n",
       "      <td>9.379585</td>\n",
       "      <td>1.351426</td>\n",
       "      <td>0.053168</td>\n",
       "      <td>NaN</td>\n",
       "      <td>0.960356</td>\n",
       "      <td>0.305854</td>\n",
       "      <td>0.504446</td>\n",
       "      <td>0.189700</td>\n",
       "      <td>2023.0</td>\n",
       "      <td>22.619303</td>\n",
       "    </tr>\n",
       "    <tr>\n",
       "      <th>std</th>\n",
       "      <td>0.499921</td>\n",
       "      <td>2.27426</td>\n",
       "      <td>1.829889</td>\n",
       "      <td>5.729396</td>\n",
       "      <td>1.721797</td>\n",
       "      <td>0.224378</td>\n",
       "      <td>NaN</td>\n",
       "      <td>0.195131</td>\n",
       "      <td>0.460790</td>\n",
       "      <td>0.500003</td>\n",
       "      <td>0.392082</td>\n",
       "      <td>0.0</td>\n",
       "      <td>12.691404</td>\n",
       "    </tr>\n",
       "    <tr>\n",
       "      <th>min</th>\n",
       "      <td>1.000000</td>\n",
       "      <td>1.00000</td>\n",
       "      <td>0.000000</td>\n",
       "      <td>0.000000</td>\n",
       "      <td>0.000000</td>\n",
       "      <td>0.000000</td>\n",
       "      <td>NaN</td>\n",
       "      <td>0.000000</td>\n",
       "      <td>0.000000</td>\n",
       "      <td>0.000000</td>\n",
       "      <td>0.000000</td>\n",
       "      <td>2023.0</td>\n",
       "      <td>1.000000</td>\n",
       "    </tr>\n",
       "    <tr>\n",
       "      <th>25%</th>\n",
       "      <td>1.000000</td>\n",
       "      <td>2.00000</td>\n",
       "      <td>1.000000</td>\n",
       "      <td>4.000000</td>\n",
       "      <td>0.000000</td>\n",
       "      <td>0.000000</td>\n",
       "      <td>NaN</td>\n",
       "      <td>1.000000</td>\n",
       "      <td>0.000000</td>\n",
       "      <td>0.000000</td>\n",
       "      <td>0.000000</td>\n",
       "      <td>2023.0</td>\n",
       "      <td>12.000000</td>\n",
       "    </tr>\n",
       "    <tr>\n",
       "      <th>50%</th>\n",
       "      <td>1.000000</td>\n",
       "      <td>3.00000</td>\n",
       "      <td>3.000000</td>\n",
       "      <td>9.000000</td>\n",
       "      <td>1.000000</td>\n",
       "      <td>0.000000</td>\n",
       "      <td>NaN</td>\n",
       "      <td>1.000000</td>\n",
       "      <td>0.000000</td>\n",
       "      <td>1.000000</td>\n",
       "      <td>0.000000</td>\n",
       "      <td>2023.0</td>\n",
       "      <td>23.000000</td>\n",
       "    </tr>\n",
       "    <tr>\n",
       "      <th>75%</th>\n",
       "      <td>2.000000</td>\n",
       "      <td>5.00000</td>\n",
       "      <td>4.000000</td>\n",
       "      <td>14.000000</td>\n",
       "      <td>1.000000</td>\n",
       "      <td>0.000000</td>\n",
       "      <td>NaN</td>\n",
       "      <td>1.000000</td>\n",
       "      <td>1.000000</td>\n",
       "      <td>1.000000</td>\n",
       "      <td>0.000000</td>\n",
       "      <td>2023.0</td>\n",
       "      <td>34.000000</td>\n",
       "    </tr>\n",
       "    <tr>\n",
       "      <th>max</th>\n",
       "      <td>2.000000</td>\n",
       "      <td>11.00000</td>\n",
       "      <td>10.000000</td>\n",
       "      <td>19.000000</td>\n",
       "      <td>6.000000</td>\n",
       "      <td>1.000000</td>\n",
       "      <td>NaN</td>\n",
       "      <td>1.000000</td>\n",
       "      <td>1.000000</td>\n",
       "      <td>1.000000</td>\n",
       "      <td>1.000000</td>\n",
       "      <td>2023.0</td>\n",
       "      <td>44.000000</td>\n",
       "    </tr>\n",
       "  </tbody>\n",
       "</table>\n",
       "</div>"
      ],
      "text/plain": [
       "                inn       batnum          ball      over_num          runs  \\\n",
       "count  10796.000000  10796.00000  10796.000000  10796.000000  10796.000000   \n",
       "mean       1.489904      3.80289      2.640793      9.379585      1.351426   \n",
       "std        0.499921      2.27426      1.829889      5.729396      1.721797   \n",
       "min        1.000000      1.00000      0.000000      0.000000      0.000000   \n",
       "25%        1.000000      2.00000      1.000000      4.000000      0.000000   \n",
       "50%        1.000000      3.00000      3.000000      9.000000      1.000000   \n",
       "75%        2.000000      5.00000      4.000000     14.000000      1.000000   \n",
       "max        2.000000     11.00000     10.000000     19.000000      6.000000   \n",
       "\n",
       "                wkt  wkt_how         b.cnt     f.ov.powp     f.ov.midd  \\\n",
       "count  10796.000000      0.0  10796.000000  10796.000000  10796.000000   \n",
       "mean       0.053168      NaN      0.960356      0.305854      0.504446   \n",
       "std        0.224378      NaN      0.195131      0.460790      0.500003   \n",
       "min        0.000000      NaN      0.000000      0.000000      0.000000   \n",
       "25%        0.000000      NaN      1.000000      0.000000      0.000000   \n",
       "50%        0.000000      NaN      1.000000      0.000000      1.000000   \n",
       "75%        0.000000      NaN      1.000000      1.000000      1.000000   \n",
       "max        1.000000      NaN      1.000000      1.000000      1.000000   \n",
       "\n",
       "          f.ov.deat       ss         m.num  \n",
       "count  10796.000000  10796.0  10796.000000  \n",
       "mean       0.189700   2023.0     22.619303  \n",
       "std        0.392082      0.0     12.691404  \n",
       "min        0.000000   2023.0      1.000000  \n",
       "25%        0.000000   2023.0     12.000000  \n",
       "50%        0.000000   2023.0     23.000000  \n",
       "75%        0.000000   2023.0     34.000000  \n",
       "max        1.000000   2023.0     44.000000  "
      ]
     },
     "execution_count": 10,
     "metadata": {},
     "output_type": "execute_result"
    }
   ],
   "source": [
    "\n",
    "bbb_master_df.describe()\n"
   ]
  },
  {
   "cell_type": "markdown",
   "id": "e523e5a7",
   "metadata": {},
   "source": [
    "#### Add bow_tm field for use"
   ]
  },
  {
   "cell_type": "code",
   "execution_count": 11,
   "id": "214119fe",
   "metadata": {},
   "outputs": [],
   "source": [
    "\n",
    "# Create a dictionary with the match number ('m.num') as the key and the team names as the values\n",
    "team_mapping = bbb_master_df.groupby('m.num')['bat_tm'].unique().apply(list).to_dict()\n",
    "\n",
    "# Define a function to switch the team name\n",
    "def switch_team_name(team, match_num):\n",
    "    teams = team_mapping[match_num]\n",
    "    return teams[0] if teams[1] == team else teams[1]\n",
    "\n",
    "# Add a new column 'bow_team' in the bowling_match_level_df\n",
    "bbb_master_df = bbb_master_df.copy()\n",
    "bbb_master_df['bow_tm'] = bbb_master_df.apply(lambda x: switch_team_name(x['bat_tm'], x['m.num']), axis=1)\n"
   ]
  },
  {
   "cell_type": "code",
   "execution_count": 12,
   "id": "62e7b434",
   "metadata": {},
   "outputs": [
    {
     "name": "stdout",
     "output_type": "stream",
     "text": [
      "44\n"
     ]
    }
   ],
   "source": [
    "\n",
    "print(len(bbb_master_df['m.num'].unique()))\n",
    "#print(pre_master_df['m.vs'].unique())\n"
   ]
  },
  {
   "cell_type": "markdown",
   "id": "1dcda7bf",
   "metadata": {},
   "source": [
    "\n",
    "#### Add the bowling and batting flags\n"
   ]
  },
  {
   "cell_type": "code",
   "execution_count": 13,
   "id": "a2f2e6fc",
   "metadata": {},
   "outputs": [
    {
     "name": "stdout",
     "output_type": "stream",
     "text": [
      "['inn', 'bat_tm', 'batnum', 'bat', 'ball', 'over_num', 'bow', 'runs', 'wkt', 'wkt_how', 'b.cnt', 'f.ov.powp', 'f.ov.midd', 'f.ov.deat', 'm.grnd', 'm.date', 'ss', 'm.type', 'm.num', 'm.vs', 'bow_tm']\n"
     ]
    }
   ],
   "source": [
    "\n",
    "print(bbb_master_df.columns.values.tolist())\n"
   ]
  },
  {
   "cell_type": "code",
   "execution_count": 14,
   "id": "9fa135d7",
   "metadata": {},
   "outputs": [
    {
     "name": "stdout",
     "output_type": "stream",
     "text": [
      "(75, 8)\n",
      "['tm', 'name', 'fname', 'battype', 'bowltype', 'bowlarm', 'bowlcat', 'bowlcat.l2']\n"
     ]
    }
   ],
   "source": [
    "\n",
    "#### Add the linups data to the pstats dataset before more merges\n",
    "\n",
    "lups = pd.read_excel(loc_lups + 'Tags.xlsx')\n",
    "\n",
    "print(lups.shape)\n",
    "print(lups.columns.values.tolist())\n"
   ]
  },
  {
   "cell_type": "code",
   "execution_count": 17,
   "id": "40af803c",
   "metadata": {},
   "outputs": [
    {
     "data": {
      "text/plain": [
       "array(['Kolkata Knight Riders', 'Sunrisers Hyderabad', 'Rajasthan Royals',\n",
       "       'Gujarat Titans'], dtype=object)"
      ]
     },
     "metadata": {},
     "output_type": "display_data"
    }
   ],
   "source": [
    "\n",
    "display(lups.tm.unique())\n"
   ]
  },
  {
   "cell_type": "code",
   "execution_count": null,
   "id": "6f857587",
   "metadata": {},
   "outputs": [],
   "source": [
    "\n",
    "batcols = ['tm','name','fname','battype']\n",
    "\n",
    "pre_master_df = pd.merge(lups[batcols], bbb_master_df, how = 'right', right_on = ['bat_tm','bat'], left_on = ['tm','name'])\n",
    "\n",
    "print(pre_master_df.shape)\n",
    "print()\n",
    "print(pre_master_df.columns.values.tolist())\n"
   ]
  },
  {
   "cell_type": "code",
   "execution_count": null,
   "id": "50987640",
   "metadata": {},
   "outputs": [],
   "source": [
    "\n",
    "bowcols = ['tm','name','fname','bowltype','bowlarm','bowlcat','bowlcat.l2']\n",
    "\n",
    "master_df = pd.merge(pre_master_df \\\n",
    "                                        , lups[bowcols]\\\n",
    "                                        , how = 'left'\\\n",
    "                                        , left_on = ['bow_tm','bow']\\\n",
    "                                        , right_on = ['tm','name']\\\n",
    "                     ,suffixes = ['_bat','_bow'])\n",
    "\n",
    "print(master_df.shape)\n",
    "print()\n",
    "print(master_df.columns.values.tolist())\n"
   ]
  },
  {
   "cell_type": "code",
   "execution_count": null,
   "id": "201d9d9c",
   "metadata": {},
   "outputs": [],
   "source": [
    "\n",
    "print(master_df.bat_tm.unique())\n"
   ]
  },
  {
   "cell_type": "code",
   "execution_count": null,
   "id": "268f3cc4",
   "metadata": {},
   "outputs": [],
   "source": [
    "\n",
    "display( master_df.groupby(['m.num', 'inn','m.vs', 'bat_tm','bow_tm']).agg({'runs':'count'}).reset_index() )\n"
   ]
  },
  {
   "cell_type": "code",
   "execution_count": null,
   "id": "91c24256",
   "metadata": {},
   "outputs": [],
   "source": [
    "\n",
    "#master_df.groupby(['over_num']).agg({'runs':'sum'}).reset_index()\n"
   ]
  },
  {
   "cell_type": "code",
   "execution_count": null,
   "id": "fdb167ce",
   "metadata": {},
   "outputs": [],
   "source": [
    "\n",
    "#master_df.groupby(['f.ov.powp','f.ov.midd','f.ov.deat','batnum'], dropna = False).agg({'runs':'sum'}).reset_index()\n"
   ]
  },
  {
   "cell_type": "code",
   "execution_count": null,
   "id": "6a647bc3",
   "metadata": {},
   "outputs": [],
   "source": [
    "\n",
    "#master_df.groupby(['f.ov.powp','f.ov.midd','f.ov.deat','over_num'], dropna = False).agg({'runs':'sum'}).reset_index().sort_values(by=['over_num'])\n"
   ]
  },
  {
   "cell_type": "code",
   "execution_count": null,
   "id": "d0e83961",
   "metadata": {},
   "outputs": [],
   "source": []
  },
  {
   "cell_type": "markdown",
   "id": "714d0670",
   "metadata": {},
   "source": [
    "## Batting stats "
   ]
  },
  {
   "cell_type": "code",
   "execution_count": null,
   "id": "e27e6306",
   "metadata": {},
   "outputs": [],
   "source": [
    "\n",
    "print(master_df.columns.values.tolist())\n"
   ]
  },
  {
   "cell_type": "code",
   "execution_count": null,
   "id": "f5b90ca1",
   "metadata": {},
   "outputs": [],
   "source": [
    "\n",
    "#print(df.shape)\n"
   ]
  },
  {
   "cell_type": "code",
   "execution_count": null,
   "id": "7f081ca9",
   "metadata": {},
   "outputs": [],
   "source": []
  },
  {
   "cell_type": "code",
   "execution_count": null,
   "id": "609bec0f",
   "metadata": {},
   "outputs": [],
   "source": [
    "\n",
    "groupbycols = ['bat_tm', 'batnum', 'bat', 'battype', 'm.num']\n",
    "\n",
    "#bat_grouped_df = master_df.groupby(['bat_tm', 'batnum', 'bat', 'm.num'])\n",
    "bat_grouped_df = master_df.groupby(groupbycols) # batnum unique as the m.num per player\n",
    "\n",
    "def custom_agg(group):\n",
    "    data = {\n",
    "        'tr': group['runs'].sum(),\n",
    "        'tbf': group['b.cnt'].sum(),\n",
    "        'tbinn': group['m.num'].nunique(),\n",
    "        'tout': group['wkt'].sum(),\n",
    "        \n",
    "        'tr_pp': (group['f.ov.powp'] * group['runs']).sum(),\n",
    "        'tbf_pp': group['f.ov.powp'].sum(),\n",
    "        'tout_pp': (group['wkt'] * group['f.ov.powp']).sum(),\n",
    "        \n",
    "        'tr_mid': (group['f.ov.midd'] * group['runs']).sum(),\n",
    "        'tbf_mid': group['f.ov.midd'].sum(),\n",
    "        'tout_mid': (group['wkt'] * group['f.ov.midd']).sum(),\n",
    "        \n",
    "        'tr_dth': (group['f.ov.deat'] * group['runs']).sum(),\n",
    "        'tbf_dth': group['f.ov.deat'].sum(),\n",
    "        'tout_dth': (group['wkt'] * group['f.ov.deat']).sum()\n",
    "    }\n",
    "    return pd.Series(data)\n",
    "\n",
    "batting_match_level_df = bat_grouped_df.apply(custom_agg)\n",
    "\n",
    "# Reset the index so that the primary key columns become regular columns\n",
    "batting_match_level_df.reset_index(inplace=True)\n"
   ]
  },
  {
   "cell_type": "code",
   "execution_count": null,
   "id": "42e6e4de",
   "metadata": {},
   "outputs": [],
   "source": [
    "\n",
    "#batting_match_level_df.sum()\n"
   ]
  },
  {
   "cell_type": "code",
   "execution_count": null,
   "id": "acd20b87",
   "metadata": {},
   "outputs": [],
   "source": [
    "\n",
    "print(batting_match_level_df.shape)\n"
   ]
  },
  {
   "cell_type": "code",
   "execution_count": null,
   "id": "c6d70487",
   "metadata": {},
   "outputs": [],
   "source": [
    "\n",
    "display(batting_match_level_df.head(3))\n"
   ]
  },
  {
   "cell_type": "code",
   "execution_count": null,
   "id": "9143526e",
   "metadata": {},
   "outputs": [],
   "source": [
    "\n",
    "# Add points columns to the original DataFrame\n",
    "\n",
    "batting_match_level_df['f.cp.pts30'] = batting_match_level_df['tr'].apply(lambda x: 4 if x >= 30 else 0)\n",
    "batting_match_level_df['f.cp.pts50'] = batting_match_level_df['tr'].apply(lambda x: 8 if x >= 50 else 0)\n",
    "batting_match_level_df['f.cp.pts100'] = batting_match_level_df['tr'].apply(lambda x: 16 if x >= 100 else 0)\n",
    "batting_match_level_df['f.cp.pts0'] = batting_match_level_df['tr'].apply(lambda x: -2 if x == 0 else 0)\n"
   ]
  },
  {
   "cell_type": "code",
   "execution_count": null,
   "id": "0f2ab2da",
   "metadata": {},
   "outputs": [],
   "source": [
    "\n",
    "batting_match_level_df.describe()\n"
   ]
  },
  {
   "cell_type": "code",
   "execution_count": null,
   "id": "28ea2807",
   "metadata": {},
   "outputs": [],
   "source": [
    "\n",
    "print(batting_match_level_df.shape)\n",
    "print()\n",
    "print(batting_match_level_df.columns.values.tolist())\n"
   ]
  },
  {
   "cell_type": "code",
   "execution_count": null,
   "id": "030d837d",
   "metadata": {},
   "outputs": [],
   "source": []
  },
  {
   "cell_type": "markdown",
   "id": "d047ed7b",
   "metadata": {},
   "source": [
    "### Batting Transpose"
   ]
  },
  {
   "cell_type": "code",
   "execution_count": null,
   "id": "1b9998e6",
   "metadata": {},
   "outputs": [],
   "source": [
    "\n",
    "df_bat_transpose = batting_match_level_df.copy()\n",
    "df_bat_transpose['game.num'] = 'G' + df_bat_transpose['m.num'].astype(str).str.zfill(2)\n",
    "\n",
    "df_bat_transpose.sort_values(by = 'm.num', ascending = False)\n",
    "\n",
    "batting_gwise = df_bat_transpose.pivot(index= ['bat_tm','bat','battype'], columns= ['game.num'], values= ['tr']).reset_index()\n",
    "\n",
    "# Fixing multi-level columns\n",
    "#batting_gwise.columns = batting_gwise.columns.map(lambda x: f'{x[1]}.{x[0]}')\n",
    "\n",
    "# Flatten only multi-level column index\n",
    "batting_gwise.columns = batting_gwise.columns.map( lambda x: f'{x[0]}.{x[1]}' if len(x) > 1 else x[0] )\n",
    "\n",
    "# Reset index\n",
    "batting_gwise = batting_gwise.reset_index(drop = True).rename(columns = {'bat_tm.':'bat_tm','bat.':'bat', 'battype.':'battype'})\n"
   ]
  },
  {
   "cell_type": "code",
   "execution_count": null,
   "id": "85edd247",
   "metadata": {},
   "outputs": [],
   "source": [
    "\n",
    "print(batting_gwise.shape)\n",
    "print()\n",
    "print(batting_gwise.columns.values.tolist())\n"
   ]
  },
  {
   "cell_type": "code",
   "execution_count": null,
   "id": "96288823",
   "metadata": {},
   "outputs": [],
   "source": [
    "\n",
    "display(batting_gwise)\n"
   ]
  },
  {
   "cell_type": "code",
   "execution_count": null,
   "id": "423b0344",
   "metadata": {},
   "outputs": [],
   "source": []
  },
  {
   "cell_type": "markdown",
   "id": "bdb5f80e",
   "metadata": {},
   "source": [
    "### Bowling stats"
   ]
  },
  {
   "cell_type": "code",
   "execution_count": null,
   "id": "8a44aa88",
   "metadata": {},
   "outputs": [],
   "source": [
    "\n",
    "print(master_df.columns.values.tolist())\n"
   ]
  },
  {
   "cell_type": "code",
   "execution_count": null,
   "id": "54b78f03",
   "metadata": {},
   "outputs": [],
   "source": [
    "\n",
    "### DICTIONARY CREATION\n",
    "\n",
    "### ROLLING UP THE DATASET\n",
    "def custom_bowling_agg(group):\n",
    "    data = {\n",
    "        'tbb': group['b.cnt'].sum(),\n",
    "        'tbrc': group['runs'].sum(),\n",
    "        'tbwkt': group['wkt'].sum(),\n",
    "        'tbov': group['over_num'].nunique(),\n",
    "        \n",
    "        'tbrc_powp': (group['f.ov.powp'] * group['runs']).sum(),\n",
    "        'tbrc_mid': (group['f.ov.midd'] * group['runs']).sum(),\n",
    "        'tbrc_dth': (group['f.ov.deat'] * group['runs']).sum(),\n",
    "        \n",
    "        'tbwkt_powp': (group['f.ov.powp'] * group['wkt']).sum(),\n",
    "        'tbwkt_mid': (group['f.ov.midd'] * group['wkt']).sum(),\n",
    "        'tbwkt_dth': (group['f.ov.deat'] * group['wkt']).sum()\n",
    "    }\n",
    "    return pd.Series(data)\n",
    "\n",
    "bow_grouped_df = master_df.groupby(['bow_tm', 'bow', 'bowltype', 'bowlarm', 'bowlcat', 'bowlcat.l2', 'm.num'])\n",
    "\n",
    "bowling_match_level_df_pre = bow_grouped_df.apply(custom_bowling_agg)\n",
    "bowling_match_level_df_pre.reset_index(inplace=True)\n",
    "\n",
    "print(master_df.shape)\n",
    "print(bowling_match_level_df_pre.shape)\n"
   ]
  },
  {
   "cell_type": "code",
   "execution_count": null,
   "id": "c1a71283",
   "metadata": {},
   "outputs": [],
   "source": [
    "\n",
    "bowling_match_level_df_pre.describe()\n"
   ]
  },
  {
   "cell_type": "code",
   "execution_count": null,
   "id": "7c51e055",
   "metadata": {},
   "outputs": [],
   "source": [
    "\n",
    "print(master_df.shape)\n",
    "\n",
    "# master_df for each phase of the game\n",
    "powp_df = master_df[master_df['f.ov.powp'] != 0]\n",
    "mid_df = master_df[master_df['f.ov.midd'] != 0]\n",
    "dth_df = master_df[master_df['f.ov.deat'] != 0]\n",
    "\n",
    "print(powp_df.shape)\n",
    "print(mid_df.shape)\n",
    "print(dth_df.shape)\n",
    "\n",
    "# Group the DataFrames by the bowler, batting team, and match number\n",
    "#powp_grouped = powp_df.groupby(['bow_tm', 'bow', 'm.num']).agg(tot_ov_powp = ('over_num','nunique')).reset_index()\n",
    "powp_grouped = powp_df.groupby(['bow_tm', 'bow', 'm.num']).agg({'over_num':'nunique'}).reset_index().rename(columns = {'over_num':'tbov.powp'})\n",
    "mid_grouped = mid_df.groupby(['bow_tm', 'bow', 'm.num']).agg({'over_num':'nunique'}).reset_index().rename(columns = {'over_num':'tbov.mid'})\n",
    "dth_grouped = dth_df.groupby(['bow_tm', 'bow', 'm.num']).agg({'over_num':'nunique'}).reset_index().rename(columns = {'over_num':'tbov.dth'})\n"
   ]
  },
  {
   "cell_type": "code",
   "execution_count": null,
   "id": "d86fba29",
   "metadata": {},
   "outputs": [],
   "source": [
    "\n",
    "# Reset the index of bowling_match_level_df\n",
    "#bow_grouped_df.reset_index()\n",
    "\n",
    "bowling_match_level_df = bowling_match_level_df_pre.reset_index()\n",
    "\n",
    "# Merge the unique overs bowled in each phase back to the bowling_match_level_df\n",
    "bowling_match_level_df = bowling_match_level_df.merge(powp_grouped, on=['bow_tm', 'bow', 'm.num'], how='left')\n",
    "bowling_match_level_df = bowling_match_level_df.merge(mid_grouped, on=['bow_tm', 'bow', 'm.num'], how='left')\n",
    "bowling_match_level_df = bowling_match_level_df.merge(dth_grouped, on=['bow_tm', 'bow', 'm.num'], how='left')\n"
   ]
  },
  {
   "cell_type": "code",
   "execution_count": null,
   "id": "40ed92cc",
   "metadata": {},
   "outputs": [],
   "source": [
    "\n",
    "print(bowling_match_level_df.columns.values.tolist())\n"
   ]
  },
  {
   "cell_type": "code",
   "execution_count": null,
   "id": "bbf40c69",
   "metadata": {},
   "outputs": [],
   "source": [
    "\n",
    "# BOWLING\n",
    "\n",
    "bowling_match_level_df['f.cp.pts3w'] = bowling_match_level_df['tbwkt'].apply(lambda x : 4 if x >= 3 else 0 )\n",
    "bowling_match_level_df['f.cp.pts4w'] = bowling_match_level_df['tbwkt'].apply(lambda x : 8 if x >= 4 else 0 )\n",
    "bowling_match_level_df['f.cp.pts5w'] = bowling_match_level_df['tbwkt'].apply(lambda x : 16 if x >= 5 else 0 )\n",
    "\n",
    "bowling_match_level_df['tbecon'] = ( bowling_match_level_df['tbrc'] * 6 ) / bowling_match_level_df['tbb']\n",
    "\n",
    "bowling_match_level_df['f.cp.ptsecon'] = bowling_match_level_df.apply(lambda x : (2*6)/x.tbb if (5 <= x.tbecon) & ( x.tbecon < 6) \\\n",
    "                                                            else ( (4*6)/x.tbb if (5 <= x.tbecon) & ( x.tbecon < 6) else 0 )\\\n",
    "                                                , axis =1)\n"
   ]
  },
  {
   "cell_type": "code",
   "execution_count": null,
   "id": "e1b7bec9",
   "metadata": {},
   "outputs": [],
   "source": [
    "\n",
    "display(bowling_match_level_df.head(3))\n"
   ]
  },
  {
   "cell_type": "code",
   "execution_count": null,
   "id": "4cc6645c",
   "metadata": {},
   "outputs": [],
   "source": [
    "\n",
    "bowling_match_level_df.describe()\n"
   ]
  },
  {
   "cell_type": "code",
   "execution_count": null,
   "id": "4667eb17",
   "metadata": {},
   "outputs": [],
   "source": [
    "\n",
    "# QC\n",
    "# bowling_match_level_df[bowling_match_level_df['tov.powp'] == 4]\n"
   ]
  },
  {
   "cell_type": "code",
   "execution_count": null,
   "id": "12417c97",
   "metadata": {},
   "outputs": [],
   "source": []
  },
  {
   "cell_type": "markdown",
   "id": "23a73fa3",
   "metadata": {},
   "source": [
    "## Bowling Transpose"
   ]
  },
  {
   "cell_type": "code",
   "execution_count": null,
   "id": "f984ee96",
   "metadata": {},
   "outputs": [],
   "source": [
    "\n",
    "df_bow_transpose = bowling_match_level_df.copy()\n",
    "df_bow_transpose['game.num'] = 'G' + df_bow_transpose['m.num'].astype(str).str.zfill(2)\n",
    "\n",
    "df_bow_transpose.sort_values(by = 'game.num', ascending = True)\n",
    "\n",
    "bowling_gwise = df_bow_transpose.pivot( index= ['bow_tm','bow'], columns= ['game.num'], values= ['tbwkt'] ).reset_index()\n",
    "\n",
    "# Fixing multi-level columns\n",
    "#bowling_gwise.columns = bowling_gwise.columns.map(lambda x: f'{x[1]}.{x[0]}')\n",
    "\n",
    "# Flatten only multi-level column index\n",
    "bowling_gwise.columns = bowling_gwise.columns.map( lambda x: f'{x[0]}.{x[1]}' if len(x) > 1 else x[0] )\n",
    "\n",
    "# Reset index\n",
    "bowling_gwise = bowling_gwise.reset_index(drop = True).rename(columns = {'bow_tm.':'bow_tm','bow.':'bow'})\n"
   ]
  },
  {
   "cell_type": "code",
   "execution_count": null,
   "id": "706d5b19",
   "metadata": {},
   "outputs": [],
   "source": [
    "\n",
    "print(bowling_gwise.shape)\n",
    "print()\n",
    "print(bowling_gwise.columns.values.tolist())\n"
   ]
  },
  {
   "cell_type": "code",
   "execution_count": null,
   "id": "8f294dbb",
   "metadata": {},
   "outputs": [],
   "source": [
    "\n",
    "display(bowling_gwise)\n"
   ]
  },
  {
   "cell_type": "code",
   "execution_count": null,
   "id": "c13b5228",
   "metadata": {},
   "outputs": [],
   "source": []
  },
  {
   "cell_type": "markdown",
   "id": "cba32096",
   "metadata": {},
   "source": [
    "## MERGE"
   ]
  },
  {
   "cell_type": "code",
   "execution_count": null,
   "id": "36f903d9",
   "metadata": {},
   "outputs": [],
   "source": [
    "\n",
    "### MERGE BAT AND BOW DF\n",
    "\n",
    "# Reset the index for both DataFrames to prepare for merging\n",
    "batmldf = batting_match_level_df.reset_index(drop = True)\n",
    "bowmldf = bowling_match_level_df.reset_index(drop = True)\n",
    "\n",
    "#dropcols = ['bow_tm','bow']\n",
    "dropcols = []\n",
    "\n",
    "# Merge the batting figures with the bowling stats\n",
    "merged_predf = pd.merge( batmldf, bowmldf, \n",
    "                     left_on=['bat_tm', 'bat', 'm.num'],\n",
    "                     right_on=['bow_tm', 'bow', 'm.num'],\n",
    "                     how='outer', \n",
    "                     suffixes=('_bat', '_bowl'))#.rename(columns = {'bat_tm':'tm', 'bat':'name' }).drop(columns = dropcols)\n",
    "\n",
    "print(merged_predf.shape)\n",
    "print(merged_predf.columns.values.tolist())\n",
    "\n",
    "# Replace NaN values with 0 in the merged DataFrame\n",
    "#merged_predf.fillna(0, inplace=True)\n",
    "\n"
   ]
  },
  {
   "cell_type": "code",
   "execution_count": null,
   "id": "b83440d4",
   "metadata": {},
   "outputs": [],
   "source": [
    "\n",
    "display(merged_predf.head(5))\n"
   ]
  },
  {
   "cell_type": "code",
   "execution_count": null,
   "id": "38493394",
   "metadata": {},
   "outputs": [],
   "source": [
    "\n",
    "# Function to combine two columns with condition\n",
    "def combine_columns(row, col1, col2):\n",
    "    return row[col1] if pd.notna(row[col1]) and row[col1] != '' else row[col2]\n",
    "\n",
    "# Create a new column using the custom function\n",
    "merged_predf['tm'] = merged_predf.apply(lambda row: combine_columns(row, 'bat_tm', 'bow_tm'), axis=1)\n",
    "merged_predf['name'] = merged_predf.apply(lambda row: combine_columns(row, 'bat', 'bow'), axis=1)\n"
   ]
  },
  {
   "cell_type": "code",
   "execution_count": null,
   "id": "10a65de2",
   "metadata": {},
   "outputs": [],
   "source": [
    "\n",
    "display(merged_predf.tail(5))\n"
   ]
  },
  {
   "cell_type": "code",
   "execution_count": null,
   "id": "b1a08b86",
   "metadata": {},
   "outputs": [],
   "source": [
    "\n",
    "#merged_df.to_csv(exp_location + 'merged.csv', index = False)\n"
   ]
  },
  {
   "cell_type": "markdown",
   "id": "fceb7bc3",
   "metadata": {},
   "source": [
    "### MAIN RUP"
   ]
  },
  {
   "cell_type": "code",
   "execution_count": null,
   "id": "ea38698f",
   "metadata": {},
   "outputs": [],
   "source": [
    "\n",
    "\n",
    "# Merged PreDF has the both the batting and bowling stats for each player and can be easily rolled up to see the results\n"
   ]
  },
  {
   "cell_type": "code",
   "execution_count": null,
   "id": "0e9a8ba1",
   "metadata": {},
   "outputs": [],
   "source": [
    "\n",
    "#### Rollup at a Player Level\n",
    "\n",
    "# Replace NaN values with False in the mask\n",
    "#mask = merged_predf.tm.str.contains(team_for_code).fillna(False)\n",
    "\n",
    "# Apply the mask to filter the DataFrame\n",
    "#merged_for_team_only = merged_df[merged_df.tm.str.contains(team_for_code)]\n",
    "#merged_for_team_only = merged_predf[mask]\n",
    "merged_for_team_only = merged_predf\n",
    "\n",
    "tstats = merged_for_team_only.groupby(['tm']).agg({\n",
    "    #'batnum': np.min,\n",
    "    'm.num': 'nunique',\n",
    "    'tr': 'sum',\n",
    "    'tbf': 'sum',\n",
    "    #'tbinn': 'sum',\n",
    "    'tout': 'sum',\n",
    "    'tr_pp': 'sum',\n",
    "    'tbf_pp': 'sum',\n",
    "    'tout_pp': 'sum',\n",
    "    'tr_mid': 'sum',\n",
    "    'tbf_mid': 'sum',\n",
    "    'tout_mid': 'sum',\n",
    "    'tr_dth': 'sum',\n",
    "    'tbf_dth': 'sum',\n",
    "    'tout_dth': 'sum',\n",
    "    #'f.cp.pts30': 'sum',\n",
    "    #'f.cp.pts50': 'sum',\n",
    "    #'f.cp.pts100': 'sum',\n",
    "    #'f.cp.pts0': 'sum',    \n",
    "    'tbb': 'sum',\n",
    "    'tbrc': 'sum',\n",
    "    'tbwkt': 'sum',\n",
    "    'tbov': 'sum',\n",
    "    'tbov.powp':'sum', \n",
    "    'tbov.mid':'sum', \n",
    "    'tbov.dth':'sum',\n",
    "    'tbrc_powp': 'sum',\n",
    "    'tbrc_mid': 'sum',\n",
    "    'tbrc_dth': 'sum',\n",
    "    'tbwkt_powp': 'sum',\n",
    "    'tbwkt_mid': 'sum',\n",
    "    'tbwkt_dth': 'sum'\n",
    "}).reset_index().rename(columns = {'batnum' : 'batnum_min','m.num':'tinn'})\n",
    "\n",
    "print(tstats.shape)\n"
   ]
  },
  {
   "cell_type": "code",
   "execution_count": null,
   "id": "d032891d",
   "metadata": {},
   "outputs": [],
   "source": [
    "\n",
    "print(tstats.columns.values.tolist())\n"
   ]
  },
  {
   "cell_type": "code",
   "execution_count": null,
   "id": "c01c8120",
   "metadata": {},
   "outputs": [],
   "source": [
    "\n",
    "display(tstats.transpose())\n"
   ]
  },
  {
   "cell_type": "code",
   "execution_count": null,
   "id": "7af532f7",
   "metadata": {},
   "outputs": [],
   "source": []
  },
  {
   "cell_type": "code",
   "execution_count": null,
   "id": "1cd9240e",
   "metadata": {},
   "outputs": [],
   "source": [
    "# Now check the gwise battin and bowling stats to append to pstats"
   ]
  },
  {
   "cell_type": "markdown",
   "id": "3397e63e",
   "metadata": {},
   "source": [
    "## Percentage split"
   ]
  },
  {
   "cell_type": "code",
   "execution_count": null,
   "id": "9520b06b",
   "metadata": {},
   "outputs": [],
   "source": [
    "\n",
    "pct_splits = tstats.copy()\n"
   ]
  },
  {
   "cell_type": "code",
   "execution_count": null,
   "id": "9741e995",
   "metadata": {},
   "outputs": [],
   "source": [
    "\n",
    "pct_splits['tr%.pp'] = round(100*pct_splits['tr_pp'] / ( pct_splits['tr'] ),0)\n",
    "pct_splits['tr%.mid'] = round(100*pct_splits['tr_mid'] / ( pct_splits['tr'] ),0)\n",
    "pct_splits['tr%.dth'] = round(100*pct_splits['tr_dth'] / ( pct_splits['tr'] ),0)\n"
   ]
  },
  {
   "cell_type": "code",
   "execution_count": null,
   "id": "63c406a1",
   "metadata": {},
   "outputs": [],
   "source": [
    "\n",
    "pct_splits['tbov%.pp'] = round(100*pct_splits['tbov.powp'] / ( pct_splits['tbov'] ),0)\n",
    "pct_splits['tbov%.mid'] = round(100*pct_splits['tbov.mid'] / ( pct_splits['tbov'] ),0)\n",
    "pct_splits['tbov%.dth'] = round(100*pct_splits['tbov.dth'] / ( pct_splits['tbov'] ),0)\n"
   ]
  },
  {
   "cell_type": "code",
   "execution_count": null,
   "id": "fa9ccd99",
   "metadata": {},
   "outputs": [],
   "source": [
    "\n",
    "pct_splits['tbwkt%.pp'] = round(100*pct_splits['tbwkt_powp'] / ( pct_splits['tbwkt'] ),0)\n",
    "pct_splits['tbwkt%.mid'] = round(100*pct_splits['tbwkt_mid'] / ( pct_splits['tbwkt'] ),0)\n",
    "pct_splits['tbwkt%.dth'] = round(100*pct_splits['tbwkt_dth'] / ( pct_splits['tbwkt'] ),0)\n"
   ]
  },
  {
   "cell_type": "code",
   "execution_count": null,
   "id": "5b643953",
   "metadata": {},
   "outputs": [],
   "source": [
    "\n",
    "print(pct_splits.shape)\n",
    "print()\n",
    "print(pct_splits.columns.values.tolist())\n",
    "print()\n"
   ]
  },
  {
   "cell_type": "code",
   "execution_count": null,
   "id": "9dc027d9",
   "metadata": {},
   "outputs": [],
   "source": [
    "\n",
    "\n",
    "pdetails = ['name','bowltype','bowlarm','bowlcat','bowlcat.l2']\n",
    "\n",
    "tr_phs = ['tr_pp','tr_mid','tr_dth']\n",
    "tbf_phs = ['tbf_pp','tbf_mid','tbf_dth']\n",
    "tout_phs = ['tout_pp','tout_mid','tout_dth']\n",
    "\n",
    "tbov_phs = ['tbov.powp','tbov.mid','tbov.dth']\n",
    "tbwkt_phs = ['tbwkt_powp','tbwkt_mid','tbwkt_dth']\n",
    "tbrc_phs = ['tbrc_powp','tbrc_mid','tbrc_dth']\n",
    "\n",
    "tbov_pct = ['tbov%.pp', 'tbov%.mid', 'tbov%.dth']\n",
    "\n",
    "#f_cp = ['f.cp.pts30', 'f.cp.pts50', 'f.cp.pts100', 'f.cp.pts0']\n",
    "\n",
    "#misc = ['bat_tm','bow_tm']\n"
   ]
  },
  {
   "cell_type": "code",
   "execution_count": null,
   "id": "e7803dd2",
   "metadata": {},
   "outputs": [],
   "source": [
    "\n",
    "dfexp = pct_splits.drop(columns = ['tbf'] + tbf_phs + ['tbov'] + tbov_phs + tbov_pct)\n",
    "#dfexp = pct_splits.copy()\n"
   ]
  },
  {
   "cell_type": "code",
   "execution_count": null,
   "id": "c1321409",
   "metadata": {},
   "outputs": [],
   "source": [
    "\n",
    "print(dfexp.columns.values.tolist())\n"
   ]
  },
  {
   "cell_type": "code",
   "execution_count": null,
   "id": "809f8644",
   "metadata": {},
   "outputs": [],
   "source": [
    "\n",
    "# Change the column order\n",
    "new_order = ['tm', 'tinn', 'tr'\\\n",
    "             , 'tr_pp', 'tr_mid', 'tr_dth'\\\n",
    "             , 'tout_pp', 'tout_mid', 'tout_dth'\\\n",
    "             , 'tbb', 'tbrc', 'tbrc_powp', 'tbrc_mid', 'tbrc_dth'\\\n",
    "             , 'tbwkt', 'tbwkt_powp', 'tbwkt_mid', 'tbwkt_dth'\\\n",
    "             , 'tr%.pp', 'tr%.mid', 'tr%.dth'\\\n",
    "             , 'tbwkt%.pp', 'tbwkt%.mid', 'tbwkt%.dth']\n",
    "expfile = dfexp[new_order].copy()\n"
   ]
  },
  {
   "cell_type": "code",
   "execution_count": null,
   "id": "5a871ad5",
   "metadata": {},
   "outputs": [],
   "source": [
    "\n",
    "exp_file = f'tstats_all.xlsx'\n",
    "dfexp.to_excel(exp_location + exp_file, index = False)\n"
   ]
  },
  {
   "cell_type": "code",
   "execution_count": null,
   "id": "1e24ef87",
   "metadata": {},
   "outputs": [],
   "source": []
  },
  {
   "cell_type": "code",
   "execution_count": null,
   "id": "2a692246",
   "metadata": {},
   "outputs": [],
   "source": []
  },
  {
   "cell_type": "markdown",
   "id": "61a859d9",
   "metadata": {},
   "source": [
    "### Fantasy Points Totals"
   ]
  },
  {
   "cell_type": "code",
   "execution_count": null,
   "id": "f8a56227",
   "metadata": {},
   "outputs": [],
   "source": [
    "'''\n",
    "#Create Fantasy pts crickpe version\n",
    "\n",
    "pstats['bat_pts'] = master_df['rs'].fillna(0) + master_df['four'].fillna(0) + master_df['six'].fillna(0)*2 \\\n",
    "    + master_df['pts_for_thrty'].fillna(0) + master_df['pts_for_fifty'].fillna(0) + master_df['pts_for_hundy'].fillna(0) + master_df['pts_for_ducky'].fillna(0)\n",
    "\n",
    "master_df['bow_pts'] = master_df['wkt'].fillna(0)*25 \\\n",
    "    + master_df['pts_for_3w'].fillna(0) + master_df['pts_for_4w'].fillna(0) + master_df['pts_for_5w'].fillna(0) \\\n",
    "        + master_df['pts_for_bow_econ'].fillna(0)\n",
    "\n",
    "master_df['pts_crickpe'] = master_df['bat_pts'].fillna(0) + master_df['bow_pts'].fillna(0)\n",
    "'''"
   ]
  },
  {
   "cell_type": "code",
   "execution_count": null,
   "id": "2dc0cca1",
   "metadata": {},
   "outputs": [],
   "source": [
    "\n",
    "# Calculate strike rates for each phase of the game\n",
    "#df_plyr_mtch['sr_powp'] = (df_plyr_mtch['tot_runs_powp'] / df_plyr_mtch['tot_balls_powp']) * 100\n",
    "#df_plyr_mtch['sr_mid'] = (df_plyr_mtch['tot_runs_mid'] / df_plyr_mtch['tot_balls_mid']) * 100\n",
    "#df_plyr_mtch['sr_dth'] = (df_plyr_mtch['tot_runs_dth'] / df_plyr_mtch['tot_balls_dth']) * 100\n"
   ]
  },
  {
   "cell_type": "code",
   "execution_count": null,
   "id": "ab5972d0",
   "metadata": {},
   "outputs": [],
   "source": []
  }
 ],
 "metadata": {
  "kernelspec": {
   "display_name": "Python 3 (ipykernel)",
   "language": "python",
   "name": "python3"
  },
  "language_info": {
   "codemirror_mode": {
    "name": "ipython",
    "version": 3
   },
   "file_extension": ".py",
   "mimetype": "text/x-python",
   "name": "python",
   "nbconvert_exporter": "python",
   "pygments_lexer": "ipython3",
   "version": "3.8.8"
  }
 },
 "nbformat": 4,
 "nbformat_minor": 5
}
