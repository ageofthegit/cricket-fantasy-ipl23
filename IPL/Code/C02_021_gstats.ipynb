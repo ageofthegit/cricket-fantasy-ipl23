{
 "cells": [
  {
   "cell_type": "code",
   "execution_count": 28,
   "id": "6571effe",
   "metadata": {},
   "outputs": [],
   "source": [
    "\n",
    "### Need to add total innings in phases of the game.\n",
    "\n",
    "import os, json\n",
    "import numpy as np, pandas as pd\n",
    "\n",
    "from pprint import pprint\n",
    "from datetime import datetime as dt\n"
   ]
  },
  {
   "cell_type": "code",
   "execution_count": 29,
   "id": "3fcd2a52",
   "metadata": {},
   "outputs": [],
   "source": [
    "\n",
    "csv_location = 'C:\\\\Users\\\\karan\\\\Documents\\\\Cricket-Analytics\\\\IPL\\\\Data\\\\ipl_json_bbb\\\\'\n",
    "exp_location = 'C:\\\\Users\\\\karan\\\\Documents\\\\Cricket-Analytics\\\\IPL\\\\Data\\\\exp\\\\'\n",
    "loc_lups = 'C:\\\\Users\\\\karan\\\\Documents\\\\Cricket-Analytics\\\\IPL\\\\Data\\\\lineups\\\\'\n"
   ]
  },
  {
   "cell_type": "code",
   "execution_count": 30,
   "id": "20c19528",
   "metadata": {},
   "outputs": [
    {
     "name": "stdout",
     "output_type": "stream",
     "text": [
      "C:\\Users\\karan\\Documents\\Cricket-Analytics\\IPL\\Data\\ipl_json_bbb\\\n",
      "\n",
      "C:\\Users\\karan\\Documents\\Cricket-Analytics\\IPL\\Data\\exp\\\n",
      "\n",
      "2023-05-07\n"
     ]
    }
   ],
   "source": [
    "\n",
    "print(csv_location)\n",
    "print()\n",
    "print(exp_location)\n",
    "print()\n",
    "print(dt.now().date())\n"
   ]
  },
  {
   "cell_type": "code",
   "execution_count": 31,
   "id": "df17e88a",
   "metadata": {},
   "outputs": [
    {
     "name": "stdout",
     "output_type": "stream",
     "text": [
      "49\n",
      "['2023_10_Sunrisers Hyderabad vs Lucknow Super Giants.csv',\n",
      " '2023_11_Rajasthan Royals vs Delhi Capitals.csv',\n",
      " '2023_12_Mumbai Indians vs Chennai Super Kings.csv',\n",
      " '2023_13_Gujarat Titans vs Kolkata Knight Riders.csv',\n",
      " '2023_14_Punjab Kings vs Sunrisers Hyderabad.csv']\n"
     ]
    }
   ],
   "source": [
    "\n",
    "folder_path = csv_location\n",
    "\n",
    "# Get a list of all files and directories in the folder\n",
    "all_files_and_dirs = os.listdir(folder_path)\n",
    "\n",
    "# Filter the list to include only files (exclude directories)\n",
    "files_only = [f for f in all_files_and_dirs if os.path.isfile(os.path.join(folder_path, f))]\n",
    "\n",
    "# Print total # of files\n",
    "print(len(files_only))\n",
    "\n",
    "# Print names of first few files \n",
    "pprint(files_only[:5])\n"
   ]
  },
  {
   "cell_type": "code",
   "execution_count": 32,
   "id": "d7caeaff",
   "metadata": {},
   "outputs": [
    {
     "name": "stdout",
     "output_type": "stream",
     "text": [
      "49\n"
     ]
    }
   ],
   "source": [
    "\n",
    "files_list = files_only\n",
    "total_files = len(files_list)\n",
    "\n",
    "#print(np.arange(total_files))\n",
    "print(total_files)\n"
   ]
  },
  {
   "cell_type": "code",
   "execution_count": 33,
   "id": "afc39671",
   "metadata": {},
   "outputs": [],
   "source": [
    "\n",
    "#All file numbers > 1359475 are #2023 IPL onwards\n",
    "#All file numbers > 1304047 are #2022 IPL onwards\n"
   ]
  },
  {
   "cell_type": "code",
   "execution_count": 34,
   "id": "a6cfe62b",
   "metadata": {},
   "outputs": [
    {
     "name": "stdout",
     "output_type": "stream",
     "text": [
      "(11951, 20)\n"
     ]
    }
   ],
   "source": [
    "\n",
    "# initialize an empty DataFrame to store all the data\n",
    "pre_master_df = pd.DataFrame()\n",
    "\n",
    "# iterate through each file in the directory\n",
    "for file_name in os.listdir(csv_location):\n",
    "    if file_name.endswith('.csv'):\n",
    "        # read the CSV file into a DataFrame\n",
    "        file_path = os.path.join(csv_location, file_name)\n",
    "        df_temp = pd.read_csv(file_path)\n",
    "        \n",
    "        # append the data to the master DataFrame\n",
    "        pre_master_df = pre_master_df.append(df_temp)\n",
    "\n",
    "# print the master DataFrame\n",
    "print(pre_master_df.shape)\n"
   ]
  },
  {
   "cell_type": "code",
   "execution_count": 35,
   "id": "5aef0d10",
   "metadata": {},
   "outputs": [
    {
     "name": "stdout",
     "output_type": "stream",
     "text": [
      "['inn', 'bat_tm', 'batnum', 'bat', 'ball', 'over_num', 'bow', 'runs', 'wkt', 'wkt_how', 'b.cnt', 'f.ov.powp', 'f.ov.midd', 'f.ov.deat', 'm.grnd', 'm.date', 'ss', 'm.type', 'm.num', 'm.vs']\n"
     ]
    }
   ],
   "source": [
    "\n",
    "print(pre_master_df.columns.values.tolist())\n"
   ]
  },
  {
   "cell_type": "code",
   "execution_count": 36,
   "id": "83679e36",
   "metadata": {},
   "outputs": [
    {
     "data": {
      "text/html": [
       "<div>\n",
       "<style scoped>\n",
       "    .dataframe tbody tr th:only-of-type {\n",
       "        vertical-align: middle;\n",
       "    }\n",
       "\n",
       "    .dataframe tbody tr th {\n",
       "        vertical-align: top;\n",
       "    }\n",
       "\n",
       "    .dataframe thead th {\n",
       "        text-align: right;\n",
       "    }\n",
       "</style>\n",
       "<table border=\"1\" class=\"dataframe\">\n",
       "  <thead>\n",
       "    <tr style=\"text-align: right;\">\n",
       "      <th></th>\n",
       "      <th>inn</th>\n",
       "      <th>bat_tm</th>\n",
       "      <th>batnum</th>\n",
       "      <th>bat</th>\n",
       "      <th>ball</th>\n",
       "      <th>over_num</th>\n",
       "      <th>bow</th>\n",
       "      <th>runs</th>\n",
       "      <th>wkt</th>\n",
       "      <th>wkt_how</th>\n",
       "      <th>b.cnt</th>\n",
       "      <th>f.ov.powp</th>\n",
       "      <th>f.ov.midd</th>\n",
       "      <th>f.ov.deat</th>\n",
       "      <th>m.grnd</th>\n",
       "      <th>m.date</th>\n",
       "      <th>ss</th>\n",
       "      <th>m.type</th>\n",
       "      <th>m.num</th>\n",
       "      <th>m.vs</th>\n",
       "    </tr>\n",
       "  </thead>\n",
       "  <tbody>\n",
       "    <tr>\n",
       "      <th>0</th>\n",
       "      <td>1</td>\n",
       "      <td>Sunrisers Hyderabad</td>\n",
       "      <td>1</td>\n",
       "      <td>Anmolpreet Singh</td>\n",
       "      <td>0</td>\n",
       "      <td>0</td>\n",
       "      <td>KR Mayers</td>\n",
       "      <td>1</td>\n",
       "      <td>0</td>\n",
       "      <td>NaN</td>\n",
       "      <td>1</td>\n",
       "      <td>1</td>\n",
       "      <td>0</td>\n",
       "      <td>0</td>\n",
       "      <td>Lucknow</td>\n",
       "      <td>2023-04-07</td>\n",
       "      <td>2023</td>\n",
       "      <td>T20</td>\n",
       "      <td>10</td>\n",
       "      <td>Sunrisers Hyderabad vs Lucknow Super Giants</td>\n",
       "    </tr>\n",
       "  </tbody>\n",
       "</table>\n",
       "</div>"
      ],
      "text/plain": [
       "   inn               bat_tm  batnum               bat  ball  over_num  \\\n",
       "0    1  Sunrisers Hyderabad       1  Anmolpreet Singh     0         0   \n",
       "\n",
       "         bow  runs  wkt  wkt_how  b.cnt  f.ov.powp  f.ov.midd  f.ov.deat  \\\n",
       "0  KR Mayers     1    0      NaN      1          1          0          0   \n",
       "\n",
       "    m.grnd      m.date    ss m.type  m.num  \\\n",
       "0  Lucknow  2023-04-07  2023    T20     10   \n",
       "\n",
       "                                          m.vs  \n",
       "0  Sunrisers Hyderabad vs Lucknow Super Giants  "
      ]
     },
     "metadata": {},
     "output_type": "display_data"
    }
   ],
   "source": [
    "\n",
    "display(pre_master_df.head(1))\n"
   ]
  },
  {
   "cell_type": "code",
   "execution_count": 37,
   "id": "ae6f110c",
   "metadata": {},
   "outputs": [
    {
     "data": {
      "text/html": [
       "<div>\n",
       "<style scoped>\n",
       "    .dataframe tbody tr th:only-of-type {\n",
       "        vertical-align: middle;\n",
       "    }\n",
       "\n",
       "    .dataframe tbody tr th {\n",
       "        vertical-align: top;\n",
       "    }\n",
       "\n",
       "    .dataframe thead th {\n",
       "        text-align: right;\n",
       "    }\n",
       "</style>\n",
       "<table border=\"1\" class=\"dataframe\">\n",
       "  <thead>\n",
       "    <tr style=\"text-align: right;\">\n",
       "      <th></th>\n",
       "      <th>inn</th>\n",
       "      <th>batnum</th>\n",
       "      <th>ball</th>\n",
       "      <th>over_num</th>\n",
       "      <th>runs</th>\n",
       "      <th>wkt</th>\n",
       "      <th>wkt_how</th>\n",
       "      <th>b.cnt</th>\n",
       "      <th>f.ov.powp</th>\n",
       "      <th>f.ov.midd</th>\n",
       "      <th>f.ov.deat</th>\n",
       "      <th>ss</th>\n",
       "      <th>m.num</th>\n",
       "    </tr>\n",
       "  </thead>\n",
       "  <tbody>\n",
       "    <tr>\n",
       "      <th>count</th>\n",
       "      <td>11951.000000</td>\n",
       "      <td>11951.000000</td>\n",
       "      <td>11951.000000</td>\n",
       "      <td>11951.000000</td>\n",
       "      <td>11951.000000</td>\n",
       "      <td>11951.000000</td>\n",
       "      <td>0.0</td>\n",
       "      <td>11951.000000</td>\n",
       "      <td>11951.000000</td>\n",
       "      <td>11951.000000</td>\n",
       "      <td>11951.000000</td>\n",
       "      <td>11951.0</td>\n",
       "      <td>11951.000000</td>\n",
       "    </tr>\n",
       "    <tr>\n",
       "      <th>mean</th>\n",
       "      <td>1.487658</td>\n",
       "      <td>3.793992</td>\n",
       "      <td>2.640197</td>\n",
       "      <td>9.331688</td>\n",
       "      <td>1.351686</td>\n",
       "      <td>0.052548</td>\n",
       "      <td>NaN</td>\n",
       "      <td>0.960338</td>\n",
       "      <td>0.307589</td>\n",
       "      <td>0.506736</td>\n",
       "      <td>0.185675</td>\n",
       "      <td>2023.0</td>\n",
       "      <td>25.067609</td>\n",
       "    </tr>\n",
       "    <tr>\n",
       "      <th>std</th>\n",
       "      <td>0.499869</td>\n",
       "      <td>2.259796</td>\n",
       "      <td>1.829348</td>\n",
       "      <td>5.709928</td>\n",
       "      <td>1.716347</td>\n",
       "      <td>0.223138</td>\n",
       "      <td>NaN</td>\n",
       "      <td>0.195172</td>\n",
       "      <td>0.461515</td>\n",
       "      <td>0.499976</td>\n",
       "      <td>0.388860</td>\n",
       "      <td>0.0</td>\n",
       "      <td>14.203369</td>\n",
       "    </tr>\n",
       "    <tr>\n",
       "      <th>min</th>\n",
       "      <td>1.000000</td>\n",
       "      <td>1.000000</td>\n",
       "      <td>0.000000</td>\n",
       "      <td>0.000000</td>\n",
       "      <td>0.000000</td>\n",
       "      <td>0.000000</td>\n",
       "      <td>NaN</td>\n",
       "      <td>0.000000</td>\n",
       "      <td>0.000000</td>\n",
       "      <td>0.000000</td>\n",
       "      <td>0.000000</td>\n",
       "      <td>2023.0</td>\n",
       "      <td>1.000000</td>\n",
       "    </tr>\n",
       "    <tr>\n",
       "      <th>25%</th>\n",
       "      <td>1.000000</td>\n",
       "      <td>2.000000</td>\n",
       "      <td>1.000000</td>\n",
       "      <td>4.000000</td>\n",
       "      <td>0.000000</td>\n",
       "      <td>0.000000</td>\n",
       "      <td>NaN</td>\n",
       "      <td>1.000000</td>\n",
       "      <td>0.000000</td>\n",
       "      <td>0.000000</td>\n",
       "      <td>0.000000</td>\n",
       "      <td>2023.0</td>\n",
       "      <td>13.000000</td>\n",
       "    </tr>\n",
       "    <tr>\n",
       "      <th>50%</th>\n",
       "      <td>1.000000</td>\n",
       "      <td>3.000000</td>\n",
       "      <td>3.000000</td>\n",
       "      <td>9.000000</td>\n",
       "      <td>1.000000</td>\n",
       "      <td>0.000000</td>\n",
       "      <td>NaN</td>\n",
       "      <td>1.000000</td>\n",
       "      <td>0.000000</td>\n",
       "      <td>1.000000</td>\n",
       "      <td>0.000000</td>\n",
       "      <td>2023.0</td>\n",
       "      <td>25.000000</td>\n",
       "    </tr>\n",
       "    <tr>\n",
       "      <th>75%</th>\n",
       "      <td>2.000000</td>\n",
       "      <td>5.000000</td>\n",
       "      <td>4.000000</td>\n",
       "      <td>14.000000</td>\n",
       "      <td>1.000000</td>\n",
       "      <td>0.000000</td>\n",
       "      <td>NaN</td>\n",
       "      <td>1.000000</td>\n",
       "      <td>1.000000</td>\n",
       "      <td>1.000000</td>\n",
       "      <td>0.000000</td>\n",
       "      <td>2023.0</td>\n",
       "      <td>37.000000</td>\n",
       "    </tr>\n",
       "    <tr>\n",
       "      <th>max</th>\n",
       "      <td>2.000000</td>\n",
       "      <td>11.000000</td>\n",
       "      <td>10.000000</td>\n",
       "      <td>19.000000</td>\n",
       "      <td>6.000000</td>\n",
       "      <td>1.000000</td>\n",
       "      <td>NaN</td>\n",
       "      <td>1.000000</td>\n",
       "      <td>1.000000</td>\n",
       "      <td>1.000000</td>\n",
       "      <td>1.000000</td>\n",
       "      <td>2023.0</td>\n",
       "      <td>50.000000</td>\n",
       "    </tr>\n",
       "  </tbody>\n",
       "</table>\n",
       "</div>"
      ],
      "text/plain": [
       "                inn        batnum          ball      over_num          runs  \\\n",
       "count  11951.000000  11951.000000  11951.000000  11951.000000  11951.000000   \n",
       "mean       1.487658      3.793992      2.640197      9.331688      1.351686   \n",
       "std        0.499869      2.259796      1.829348      5.709928      1.716347   \n",
       "min        1.000000      1.000000      0.000000      0.000000      0.000000   \n",
       "25%        1.000000      2.000000      1.000000      4.000000      0.000000   \n",
       "50%        1.000000      3.000000      3.000000      9.000000      1.000000   \n",
       "75%        2.000000      5.000000      4.000000     14.000000      1.000000   \n",
       "max        2.000000     11.000000     10.000000     19.000000      6.000000   \n",
       "\n",
       "                wkt  wkt_how         b.cnt     f.ov.powp     f.ov.midd  \\\n",
       "count  11951.000000      0.0  11951.000000  11951.000000  11951.000000   \n",
       "mean       0.052548      NaN      0.960338      0.307589      0.506736   \n",
       "std        0.223138      NaN      0.195172      0.461515      0.499976   \n",
       "min        0.000000      NaN      0.000000      0.000000      0.000000   \n",
       "25%        0.000000      NaN      1.000000      0.000000      0.000000   \n",
       "50%        0.000000      NaN      1.000000      0.000000      1.000000   \n",
       "75%        0.000000      NaN      1.000000      1.000000      1.000000   \n",
       "max        1.000000      NaN      1.000000      1.000000      1.000000   \n",
       "\n",
       "          f.ov.deat       ss         m.num  \n",
       "count  11951.000000  11951.0  11951.000000  \n",
       "mean       0.185675   2023.0     25.067609  \n",
       "std        0.388860      0.0     14.203369  \n",
       "min        0.000000   2023.0      1.000000  \n",
       "25%        0.000000   2023.0     13.000000  \n",
       "50%        0.000000   2023.0     25.000000  \n",
       "75%        0.000000   2023.0     37.000000  \n",
       "max        1.000000   2023.0     50.000000  "
      ]
     },
     "execution_count": 37,
     "metadata": {},
     "output_type": "execute_result"
    }
   ],
   "source": [
    "\n",
    "pre_master_df.describe()\n"
   ]
  },
  {
   "cell_type": "code",
   "execution_count": 38,
   "id": "62e7b434",
   "metadata": {},
   "outputs": [
    {
     "name": "stdout",
     "output_type": "stream",
     "text": [
      "49\n"
     ]
    }
   ],
   "source": [
    "\n",
    "print(len(pre_master_df['m.num'].unique()))\n",
    "#print(pre_master_df['m.vs'].unique())\n"
   ]
  },
  {
   "cell_type": "code",
   "execution_count": 39,
   "id": "22d8f7fe",
   "metadata": {},
   "outputs": [],
   "source": [
    "\n",
    "# Create a dictionary with the match number ('m.num') as the key and the team names as the values\n",
    "team_mapping = pre_master_df.groupby('m.num')['bat_tm'].unique().apply(list).to_dict()\n",
    "\n",
    "# Define a function to switch the team name\n",
    "def switch_team_name(team, match_num):\n",
    "    teams = team_mapping[match_num]\n",
    "    return teams[0] if teams[1] == team else teams[1]\n",
    "\n",
    "# Add a new column 'bow_team' in the bowling_match_level_df\n",
    "pre_master_df = pre_master_df.copy()\n",
    "pre_master_df['bow_tm'] = pre_master_df.apply(lambda x: switch_team_name(x['bat_tm'], x['m.num']), axis=1)\n"
   ]
  },
  {
   "cell_type": "code",
   "execution_count": 40,
   "id": "e8ab2710",
   "metadata": {},
   "outputs": [],
   "source": [
    "\n",
    "master_df = pre_master_df.copy()\n"
   ]
  },
  {
   "cell_type": "code",
   "execution_count": 41,
   "id": "201d9d9c",
   "metadata": {},
   "outputs": [
    {
     "name": "stdout",
     "output_type": "stream",
     "text": [
      "['Sunrisers Hyderabad' 'Lucknow Super Giants' 'Rajasthan Royals'\n",
      " 'Delhi Capitals' 'Mumbai Indians' 'Chennai Super Kings' 'Gujarat Titans'\n",
      " 'Kolkata Knight Riders' 'Punjab Kings' 'Royal Challengers Bangalore']\n"
     ]
    }
   ],
   "source": [
    "\n",
    "print(master_df.bat_tm.unique())\n"
   ]
  },
  {
   "cell_type": "code",
   "execution_count": 42,
   "id": "268f3cc4",
   "metadata": {},
   "outputs": [
    {
     "name": "stdout",
     "output_type": "stream",
     "text": [
      "    m.num                                               m.vs  runs\n",
      "0       1              Chennai Super Kings vs Gujarat Titans   243\n",
      "1       2              Punjab Kings vs Kolkata Knight Riders   222\n",
      "2       3             Lucknow Super Giants vs Delhi Capitals   251\n",
      "3       4            Rajasthan Royals vs Sunrisers Hyderabad   248\n",
      "4       5      Mumbai Indians vs Royal Challengers Bangalore   232\n",
      "5       6        Chennai Super Kings vs Lucknow Super Giants   260\n",
      "6       7                   Delhi Capitals vs Gujarat Titans   240\n",
      "7       8                   Punjab Kings vs Rajasthan Royals   252\n",
      "8       9  Kolkata Knight Riders vs Royal Challengers Ban...   236\n",
      "9      10        Sunrisers Hyderabad vs Lucknow Super Giants   223\n",
      "10     11                 Rajasthan Royals vs Delhi Capitals   252\n",
      "11     12              Mumbai Indians vs Chennai Super Kings   239\n",
      "12     13            Gujarat Titans vs Kolkata Knight Riders   250\n",
      "13     14                Punjab Kings vs Sunrisers Hyderabad   228\n",
      "14     15  Royal Challengers Bangalore vs Lucknow Super G...   253\n",
      "15     16                   Delhi Capitals vs Mumbai Indians   246\n",
      "16     17            Rajasthan Royals vs Chennai Super Kings   253\n",
      "17     18                     Punjab Kings vs Gujarat Titans   248\n",
      "18     19       Sunrisers Hyderabad vs Kolkata Knight Riders   256\n",
      "19     20      Royal Challengers Bangalore vs Delhi Capitals   247\n",
      "20     21               Lucknow Super Giants vs Punjab Kings   249\n",
      "21     22            Kolkata Knight Riders vs Mumbai Indians   237\n",
      "22     23                 Gujarat Titans vs Rajasthan Royals   242\n",
      "23     24  Chennai Super Kings vs Royal Challengers Banga...   252\n",
      "24     25              Mumbai Indians vs Sunrisers Hyderabad   249\n",
      "25     26           Lucknow Super Giants vs Rajasthan Royals   245\n",
      "26     27        Royal Challengers Bangalore vs Punjab Kings   236\n",
      "27     28            Kolkata Knight Riders vs Delhi Capitals   251\n",
      "28     29         Sunrisers Hyderabad vs Chennai Super Kings   234\n",
      "29     30             Gujarat Titans vs Lucknow Super Giants   241\n",
      "30     31                     Punjab Kings vs Mumbai Indians   252\n",
      "31     32    Royal Challengers Bangalore vs Rajasthan Royals   251\n",
      "32     33       Chennai Super Kings vs Kolkata Knight Riders   252\n",
      "33     34              Delhi Capitals vs Sunrisers Hyderabad   242\n",
      "34     35                   Gujarat Titans vs Mumbai Indians   246\n",
      "35     36  Kolkata Knight Riders vs Royal Challengers Ban...   247\n",
      "36     37            Rajasthan Royals vs Chennai Super Kings   245\n",
      "37     38               Lucknow Super Giants vs Punjab Kings   257\n",
      "38     39            Kolkata Knight Riders vs Gujarat Titans   233\n",
      "39     40              Sunrisers Hyderabad vs Delhi Capitals   252\n",
      "40     41                Chennai Super Kings vs Punjab Kings   252\n",
      "41     42                 Rajasthan Royals vs Mumbai Indians   258\n",
      "42     43  Royal Challengers Bangalore vs Lucknow Super G...   246\n",
      "43     44                   Delhi Capitals vs Gujarat Titans   248\n",
      "44     46                     Punjab Kings vs Mumbai Indians   244\n",
      "45     47       Kolkata Knight Riders vs Sunrisers Hyderabad   254\n",
      "46     48                 Rajasthan Royals vs Gujarat Titans   198\n",
      "47     49              Mumbai Indians vs Chennai Super Kings   231\n",
      "48     50      Royal Challengers Bangalore vs Delhi Capitals   228\n"
     ]
    }
   ],
   "source": [
    "\n",
    "print( master_df.groupby(['m.num','m.vs']).agg({'runs':'count'}).reset_index() )\n"
   ]
  },
  {
   "cell_type": "markdown",
   "id": "714d0670",
   "metadata": {},
   "source": [
    "## Statistics "
   ]
  },
  {
   "cell_type": "code",
   "execution_count": 43,
   "id": "e27e6306",
   "metadata": {},
   "outputs": [
    {
     "name": "stdout",
     "output_type": "stream",
     "text": [
      "['inn', 'bat_tm', 'batnum', 'bat', 'ball', 'over_num', 'bow', 'runs', 'wkt', 'wkt_how', 'b.cnt', 'f.ov.powp', 'f.ov.midd', 'f.ov.deat', 'm.grnd', 'm.date', 'ss', 'm.type', 'm.num', 'm.vs', 'bow_tm']\n"
     ]
    }
   ],
   "source": [
    "\n",
    "print(master_df.columns.values.tolist())\n"
   ]
  },
  {
   "cell_type": "code",
   "execution_count": 44,
   "id": "609bec0f",
   "metadata": {},
   "outputs": [],
   "source": [
    "\n",
    "groupbycols = ['m.grnd', 'm.num', 'm.vs', 'inn', 'bat_tm', 'bow_tm']\n",
    "\n",
    "#bat_grouped_df = master_df.groupby(['bat_tm', 'batnum', 'bat', 'm.num'])\n",
    "grnd_grouped_df = master_df.groupby(groupbycols) # batnum unique as the m.num per player\n",
    "\n",
    "def custom_agg(group):\n",
    "    data = {\n",
    "        # Batting-Stats\n",
    "        'tr': group['runs'].sum(),\n",
    "        'tbf': group['b.cnt'].sum(),\n",
    "        'tbinn': group['m.num'].nunique(),\n",
    "        \n",
    "        'tr_pp': (group['f.ov.powp'] * group['runs']).sum(),\n",
    "        'tbf_pp': group['f.ov.powp'].sum(),\n",
    "        'tout_pp': (group['wkt'] * group['f.ov.powp']).sum(),\n",
    "        \n",
    "        'tr_mid': (group['f.ov.midd'] * group['runs']).sum(),\n",
    "        'tbf_mid': group['f.ov.midd'].sum(),\n",
    "        'tout_mid': (group['wkt'] * group['f.ov.midd']).sum(),\n",
    "        \n",
    "        'tr_dth': (group['f.ov.deat'] * group['runs']).sum(),\n",
    "        'tbf_dth': group['f.ov.deat'].sum(),\n",
    "        'tout_dth': (group['wkt'] * group['f.ov.deat']).sum(),\n",
    "        \n",
    "        # Bowling-Stats\n",
    "        'tbb': group['b.cnt'].sum(),\n",
    "        'tbrc': group['runs'].sum(),\n",
    "        'tbwkt': group['wkt'].sum(),\n",
    "        'tbov': group['over_num'].nunique(),\n",
    "        \n",
    "        'tbrc_powp': (group['f.ov.powp'] * group['runs']).sum(),\n",
    "        'tbrc_mid': (group['f.ov.midd'] * group['runs']).sum(),\n",
    "        'tbrc_dth': (group['f.ov.deat'] * group['runs']).sum(),\n",
    "        \n",
    "        'tbwkt_powp': (group['f.ov.powp'] * group['wkt']).sum(),\n",
    "        'tbwkt_mid': (group['f.ov.midd'] * group['wkt']).sum(),\n",
    "        'tbwkt_dth': (group['f.ov.deat'] * group['wkt']).sum()\n",
    "\n",
    "    }\n",
    "    return pd.Series(data)\n",
    "\n",
    "grnd_level_df = grnd_grouped_df.apply(custom_agg)\n",
    "\n",
    "# Reset the index so that the primary key columns become regular columns\n",
    "grnd_level_df.reset_index(inplace=True)\n"
   ]
  },
  {
   "cell_type": "code",
   "execution_count": 45,
   "id": "b4eef43f",
   "metadata": {},
   "outputs": [
    {
     "name": "stdout",
     "output_type": "stream",
     "text": [
      "['m.grnd', 'm.num', 'm.vs', 'inn', 'bat_tm', 'bow_tm', 'tr', 'tbf', 'tbinn', 'tr_pp', 'tbf_pp', 'tout_pp', 'tr_mid', 'tbf_mid', 'tout_mid', 'tr_dth', 'tbf_dth', 'tout_dth', 'tbb', 'tbrc', 'tbwkt', 'tbov', 'tbrc_powp', 'tbrc_mid', 'tbrc_dth', 'tbwkt_powp', 'tbwkt_mid', 'tbwkt_dth']\n"
     ]
    }
   ],
   "source": [
    "\n",
    "print(grnd_level_df.columns.values.tolist())\n"
   ]
  },
  {
   "cell_type": "code",
   "execution_count": 46,
   "id": "42e6e4de",
   "metadata": {},
   "outputs": [
    {
     "data": {
      "text/html": [
       "<div>\n",
       "<style scoped>\n",
       "    .dataframe tbody tr th:only-of-type {\n",
       "        vertical-align: middle;\n",
       "    }\n",
       "\n",
       "    .dataframe tbody tr th {\n",
       "        vertical-align: top;\n",
       "    }\n",
       "\n",
       "    .dataframe thead th {\n",
       "        text-align: right;\n",
       "    }\n",
       "</style>\n",
       "<table border=\"1\" class=\"dataframe\">\n",
       "  <thead>\n",
       "    <tr style=\"text-align: right;\">\n",
       "      <th></th>\n",
       "      <th>m.grnd</th>\n",
       "      <th>m.num</th>\n",
       "      <th>m.vs</th>\n",
       "      <th>inn</th>\n",
       "      <th>bat_tm</th>\n",
       "      <th>bow_tm</th>\n",
       "      <th>tr</th>\n",
       "      <th>tbf</th>\n",
       "      <th>tbinn</th>\n",
       "      <th>tr_pp</th>\n",
       "      <th>...</th>\n",
       "      <th>tbb</th>\n",
       "      <th>tbrc</th>\n",
       "      <th>tbwkt</th>\n",
       "      <th>tbov</th>\n",
       "      <th>tbrc_powp</th>\n",
       "      <th>tbrc_mid</th>\n",
       "      <th>tbrc_dth</th>\n",
       "      <th>tbwkt_powp</th>\n",
       "      <th>tbwkt_mid</th>\n",
       "      <th>tbwkt_dth</th>\n",
       "    </tr>\n",
       "  </thead>\n",
       "  <tbody>\n",
       "    <tr>\n",
       "      <th>0</th>\n",
       "      <td>Ahmedabad</td>\n",
       "      <td>1</td>\n",
       "      <td>Chennai Super Kings vs Gujarat Titans</td>\n",
       "      <td>1</td>\n",
       "      <td>Chennai Super Kings</td>\n",
       "      <td>Gujarat Titans</td>\n",
       "      <td>170</td>\n",
       "      <td>120</td>\n",
       "      <td>1</td>\n",
       "      <td>49</td>\n",
       "      <td>...</td>\n",
       "      <td>120</td>\n",
       "      <td>170</td>\n",
       "      <td>7</td>\n",
       "      <td>20</td>\n",
       "      <td>49</td>\n",
       "      <td>85</td>\n",
       "      <td>36</td>\n",
       "      <td>2</td>\n",
       "      <td>2</td>\n",
       "      <td>3</td>\n",
       "    </tr>\n",
       "  </tbody>\n",
       "</table>\n",
       "<p>1 rows × 28 columns</p>\n",
       "</div>"
      ],
      "text/plain": [
       "      m.grnd  m.num                                   m.vs  inn  \\\n",
       "0  Ahmedabad      1  Chennai Super Kings vs Gujarat Titans    1   \n",
       "\n",
       "                bat_tm          bow_tm   tr  tbf  tbinn  tr_pp  ...  tbb  \\\n",
       "0  Chennai Super Kings  Gujarat Titans  170  120      1     49  ...  120   \n",
       "\n",
       "   tbrc  tbwkt  tbov  tbrc_powp  tbrc_mid  tbrc_dth  tbwkt_powp  tbwkt_mid  \\\n",
       "0   170      7    20         49        85        36           2          2   \n",
       "\n",
       "   tbwkt_dth  \n",
       "0          3  \n",
       "\n",
       "[1 rows x 28 columns]"
      ]
     },
     "metadata": {},
     "output_type": "display_data"
    }
   ],
   "source": [
    "\n",
    "display(grnd_level_df.head(1))\n"
   ]
  },
  {
   "cell_type": "code",
   "execution_count": 47,
   "id": "b4c749bd",
   "metadata": {},
   "outputs": [],
   "source": [
    "\n",
    "## Drop cols\n",
    "\n",
    "cols_bat = ['tbf', 'tbf_pp' ,'tbf_mid' ,'tbf_dth' ,'tbinn', 'tout_pp','tout_mid','tout_dth']\n",
    "cols_bow = ['tbb', 'tbrc' ,'tbov', 'tbrc_powp','tbrc_mid', 'tbrc_dth' ]\n"
   ]
  },
  {
   "cell_type": "code",
   "execution_count": 48,
   "id": "5d4f8483",
   "metadata": {},
   "outputs": [
    {
     "name": "stdout",
     "output_type": "stream",
     "text": [
      "['m.grnd', 'm.num', 'm.vs', 'inn', 'bat_tm', 'bow_tm', 'tr', 'tr_pp', 'tr_mid', 'tr_dth', 'tbwkt', 'tbwkt_powp', 'tbwkt_mid', 'tbwkt_dth']\n"
     ]
    }
   ],
   "source": [
    "\n",
    "gdata = grnd_level_df.drop(columns = cols_bat + cols_bow)\n",
    "\n",
    "print(gdata.columns.values.tolist())\n"
   ]
  },
  {
   "cell_type": "code",
   "execution_count": null,
   "id": "2e84f8b9",
   "metadata": {},
   "outputs": [],
   "source": []
  },
  {
   "cell_type": "markdown",
   "id": "04ece83d",
   "metadata": {},
   "source": [
    "\n",
    "#### Split & Merge\n"
   ]
  },
  {
   "cell_type": "code",
   "execution_count": 49,
   "id": "bf7dca00",
   "metadata": {},
   "outputs": [
    {
     "name": "stdout",
     "output_type": "stream",
     "text": [
      "['m.grnd', 'm.num', 'm.vs', 'tmi1', 'tmi2', 'tr', 'tr_pp', 'tr_mid', 'tr_dth', 'tbwkt', 'tbwkt_powp', 'tbwkt_mid', 'tbwkt_dth']\n",
      "\n",
      "['m.grnd', 'm.num', 'm.vs', 'tr', 'tr_pp', 'tr_mid', 'tr_dth', 'tbwkt', 'tbwkt_powp', 'tbwkt_mid', 'tbwkt_dth']\n"
     ]
    }
   ],
   "source": [
    "\n",
    "i1_cols_drop = ['inn']\n",
    "i2_cols_drop = ['inn','bat_tm','bow_tm']\n",
    "\n",
    "gdata_i1 = gdata[gdata.inn == 1].drop(columns = i1_cols_drop).rename(columns = {'bat_tm':'tmi1', 'bow_tm':'tmi2'})\n",
    "print(gdata_i1.columns.values.tolist())\n",
    "\n",
    "print()\n",
    "\n",
    "gdata_i2 = gdata[gdata.inn == 2].drop(columns = i2_cols_drop)\n",
    "print(gdata_i2.columns.values.tolist())\n"
   ]
  },
  {
   "cell_type": "code",
   "execution_count": 50,
   "id": "aa76c686",
   "metadata": {},
   "outputs": [
    {
     "name": "stdout",
     "output_type": "stream",
     "text": [
      "(98, 14)\n",
      "(49, 13)\n",
      "(49, 11)\n",
      "\n",
      "(49, 21)\n",
      "['m.grnd', 'm.num', 'm.vs', 'tmi1', 'tmi2', 'tri1', 'tr_ppi1', 'tr_midi1', 'tr_dthi1', 'tbwkti1', 'tbwkt_powpi1', 'tbwkt_midi1', 'tbwkt_dthi1', 'tri2', 'tr_ppi2', 'tr_midi2', 'tr_dthi2', 'tbwkti2', 'tbwkt_powpi2', 'tbwkt_midi2', 'tbwkt_dthi2']\n"
     ]
    }
   ],
   "source": [
    "\n",
    "print(gdata.shape)\n",
    "print(gdata_i1.shape)\n",
    "print(gdata_i2.shape)\n",
    "\n",
    "gmain = pd.merge(gdata_i1, gdata_i2, on = ['m.grnd','m.num','m.vs'], suffixes = ['i1','i2'] )\n",
    "\n",
    "print()\n",
    "print(gmain.shape)\n",
    "print(gmain.columns.values.tolist())\n"
   ]
  },
  {
   "cell_type": "code",
   "execution_count": 51,
   "id": "23a3c29e",
   "metadata": {},
   "outputs": [
    {
     "data": {
      "text/html": [
       "<div>\n",
       "<style scoped>\n",
       "    .dataframe tbody tr th:only-of-type {\n",
       "        vertical-align: middle;\n",
       "    }\n",
       "\n",
       "    .dataframe tbody tr th {\n",
       "        vertical-align: top;\n",
       "    }\n",
       "\n",
       "    .dataframe thead th {\n",
       "        text-align: right;\n",
       "    }\n",
       "</style>\n",
       "<table border=\"1\" class=\"dataframe\">\n",
       "  <thead>\n",
       "    <tr style=\"text-align: right;\">\n",
       "      <th></th>\n",
       "      <th>0</th>\n",
       "      <th>1</th>\n",
       "    </tr>\n",
       "  </thead>\n",
       "  <tbody>\n",
       "    <tr>\n",
       "      <th>m.grnd</th>\n",
       "      <td>Ahmedabad</td>\n",
       "      <td>Ahmedabad</td>\n",
       "    </tr>\n",
       "    <tr>\n",
       "      <th>m.num</th>\n",
       "      <td>1</td>\n",
       "      <td>13</td>\n",
       "    </tr>\n",
       "    <tr>\n",
       "      <th>m.vs</th>\n",
       "      <td>Chennai Super Kings vs Gujarat Titans</td>\n",
       "      <td>Gujarat Titans vs Kolkata Knight Riders</td>\n",
       "    </tr>\n",
       "    <tr>\n",
       "      <th>tmi1</th>\n",
       "      <td>Chennai Super Kings</td>\n",
       "      <td>Gujarat Titans</td>\n",
       "    </tr>\n",
       "    <tr>\n",
       "      <th>tmi2</th>\n",
       "      <td>Gujarat Titans</td>\n",
       "      <td>Kolkata Knight Riders</td>\n",
       "    </tr>\n",
       "    <tr>\n",
       "      <th>tri1</th>\n",
       "      <td>170</td>\n",
       "      <td>188</td>\n",
       "    </tr>\n",
       "    <tr>\n",
       "      <th>tr_ppi1</th>\n",
       "      <td>49</td>\n",
       "      <td>42</td>\n",
       "    </tr>\n",
       "    <tr>\n",
       "      <th>tr_midi1</th>\n",
       "      <td>85</td>\n",
       "      <td>89</td>\n",
       "    </tr>\n",
       "    <tr>\n",
       "      <th>tr_dthi1</th>\n",
       "      <td>36</td>\n",
       "      <td>57</td>\n",
       "    </tr>\n",
       "    <tr>\n",
       "      <th>tbwkti1</th>\n",
       "      <td>7</td>\n",
       "      <td>4</td>\n",
       "    </tr>\n",
       "    <tr>\n",
       "      <th>tbwkt_powpi1</th>\n",
       "      <td>2</td>\n",
       "      <td>1</td>\n",
       "    </tr>\n",
       "    <tr>\n",
       "      <th>tbwkt_midi1</th>\n",
       "      <td>2</td>\n",
       "      <td>2</td>\n",
       "    </tr>\n",
       "    <tr>\n",
       "      <th>tbwkt_dthi1</th>\n",
       "      <td>3</td>\n",
       "      <td>1</td>\n",
       "    </tr>\n",
       "    <tr>\n",
       "      <th>tri2</th>\n",
       "      <td>170</td>\n",
       "      <td>203</td>\n",
       "    </tr>\n",
       "    <tr>\n",
       "      <th>tr_ppi2</th>\n",
       "      <td>61</td>\n",
       "      <td>42</td>\n",
       "    </tr>\n",
       "    <tr>\n",
       "      <th>tr_midi2</th>\n",
       "      <td>77</td>\n",
       "      <td>111</td>\n",
       "    </tr>\n",
       "    <tr>\n",
       "      <th>tr_dthi2</th>\n",
       "      <td>32</td>\n",
       "      <td>50</td>\n",
       "    </tr>\n",
       "    <tr>\n",
       "      <th>tbwkti2</th>\n",
       "      <td>5</td>\n",
       "      <td>7</td>\n",
       "    </tr>\n",
       "    <tr>\n",
       "      <th>tbwkt_powpi2</th>\n",
       "      <td>1</td>\n",
       "      <td>2</td>\n",
       "    </tr>\n",
       "    <tr>\n",
       "      <th>tbwkt_midi2</th>\n",
       "      <td>3</td>\n",
       "      <td>2</td>\n",
       "    </tr>\n",
       "    <tr>\n",
       "      <th>tbwkt_dthi2</th>\n",
       "      <td>1</td>\n",
       "      <td>3</td>\n",
       "    </tr>\n",
       "  </tbody>\n",
       "</table>\n",
       "</div>"
      ],
      "text/plain": [
       "                                                  0  \\\n",
       "m.grnd                                    Ahmedabad   \n",
       "m.num                                             1   \n",
       "m.vs          Chennai Super Kings vs Gujarat Titans   \n",
       "tmi1                            Chennai Super Kings   \n",
       "tmi2                                 Gujarat Titans   \n",
       "tri1                                            170   \n",
       "tr_ppi1                                          49   \n",
       "tr_midi1                                         85   \n",
       "tr_dthi1                                         36   \n",
       "tbwkti1                                           7   \n",
       "tbwkt_powpi1                                      2   \n",
       "tbwkt_midi1                                       2   \n",
       "tbwkt_dthi1                                       3   \n",
       "tri2                                            170   \n",
       "tr_ppi2                                          61   \n",
       "tr_midi2                                         77   \n",
       "tr_dthi2                                         32   \n",
       "tbwkti2                                           5   \n",
       "tbwkt_powpi2                                      1   \n",
       "tbwkt_midi2                                       3   \n",
       "tbwkt_dthi2                                       1   \n",
       "\n",
       "                                                    1  \n",
       "m.grnd                                      Ahmedabad  \n",
       "m.num                                              13  \n",
       "m.vs          Gujarat Titans vs Kolkata Knight Riders  \n",
       "tmi1                                   Gujarat Titans  \n",
       "tmi2                            Kolkata Knight Riders  \n",
       "tri1                                              188  \n",
       "tr_ppi1                                            42  \n",
       "tr_midi1                                           89  \n",
       "tr_dthi1                                           57  \n",
       "tbwkti1                                             4  \n",
       "tbwkt_powpi1                                        1  \n",
       "tbwkt_midi1                                         2  \n",
       "tbwkt_dthi1                                         1  \n",
       "tri2                                              203  \n",
       "tr_ppi2                                            42  \n",
       "tr_midi2                                          111  \n",
       "tr_dthi2                                           50  \n",
       "tbwkti2                                             7  \n",
       "tbwkt_powpi2                                        2  \n",
       "tbwkt_midi2                                         2  \n",
       "tbwkt_dthi2                                         3  "
      ]
     },
     "metadata": {},
     "output_type": "display_data"
    }
   ],
   "source": [
    "\n",
    "display(gmain.head(2).transpose())\n"
   ]
  },
  {
   "cell_type": "code",
   "execution_count": 52,
   "id": "85e84cca",
   "metadata": {},
   "outputs": [
    {
     "name": "stdout",
     "output_type": "stream",
     "text": [
      "(49, 21)\n",
      "['m.grnd', 'm.num', 'm.vs', 'tmi1', 'tmi2', 'tri1', 'tbwkti1', 'tri2', 'tbwkti2', 'tr_ppi1', 'tr_midi1', 'tr_dthi1', 'tr_ppi2', 'tr_midi2', 'tr_dthi2', 'tbwkt_powpi1', 'tbwkt_midi1', 'tbwkt_dthi1', 'tbwkt_powpi2', 'tbwkt_midi2', 'tbwkt_dthi2']\n"
     ]
    }
   ],
   "source": [
    "\n",
    "# Reorder columns before export \n",
    "\n",
    "new_column_order = ['m.grnd', 'm.num', 'm.vs', 'tmi1', 'tmi2'\\\n",
    "                    , 'tri1', 'tbwkti1', 'tri2', 'tbwkti2'\\\n",
    "                    , 'tr_ppi1', 'tr_midi1', 'tr_dthi1'\\\n",
    "                    , 'tr_ppi2', 'tr_midi2', 'tr_dthi2'\\\n",
    "                    , 'tbwkt_powpi1', 'tbwkt_midi1', 'tbwkt_dthi1'\\\n",
    "                    , 'tbwkt_powpi2', 'tbwkt_midi2', 'tbwkt_dthi2']\n",
    "\n",
    "gexp = gmain.reindex(columns=new_column_order)\n",
    "\n",
    "print(gexp.shape)\n",
    "print(gexp.columns.values.tolist())\n"
   ]
  },
  {
   "cell_type": "code",
   "execution_count": 53,
   "id": "e4e47f71",
   "metadata": {},
   "outputs": [
    {
     "data": {
      "text/plain": [
       "\"\\nnewindex = { 'm.grnd' : 'venu' , 'm.num': 'innings'            , 'm.vs': 'vs'            , 'tri1' : 'runs bat 1', 'tbwkti1' : 'wkts bat 1', 'tri2':'runs bat 2', 'tbwkti2':'wkt bat 2'            , 'tr_ppi1' : 'runs bat 1 pp', 'tr_midi1' : 'runs bat 1 mid', 'tr_dthi1' : 'runs bat 1 dth'            , 'tr_ppi2' : 'runs bat 2 pp', 'tr_midi2' : 'runs bat 1 mid', 'tr_dthi2' : 'runs bat 1 dth'            , 'tbwkt_powpi1' : 'wkts bat 1 pp', 'tbwkt_midi1' : 'wkts bat 1 mid', 'tbwkt_dthi1' :'wkts bat 1 dth'            , 'tbwkt_powpi2' : 'wkts bat 2 pp', 'tbwkt_midi2' : 'wkts bat 2 mid', 'tbwkt_dthi2' : 'wkts bat 2 dth' }\\n\""
      ]
     },
     "execution_count": 53,
     "metadata": {},
     "output_type": "execute_result"
    }
   ],
   "source": [
    "\n",
    "\"\"\"\n",
    "newindex = { 'm.grnd' : 'venu' , 'm.num': 'innings'\\\n",
    "            , 'm.vs': 'vs'\\\n",
    "            , 'tri1' : 'runs bat 1', 'tbwkti1' : 'wkts bat 1', 'tri2':'runs bat 2', 'tbwkti2':'wkt bat 2'\\\n",
    "            , 'tr_ppi1' : 'runs bat 1 pp', 'tr_midi1' : 'runs bat 1 mid', 'tr_dthi1' : 'runs bat 1 dth'\\\n",
    "            , 'tr_ppi2' : 'runs bat 2 pp', 'tr_midi2' : 'runs bat 1 mid', 'tr_dthi2' : 'runs bat 1 dth'\\\n",
    "            , 'tbwkt_powpi1' : 'wkts bat 1 pp', 'tbwkt_midi1' : 'wkts bat 1 mid', 'tbwkt_dthi1' :'wkts bat 1 dth'\\\n",
    "            , 'tbwkt_powpi2' : 'wkts bat 2 pp', 'tbwkt_midi2' : 'wkts bat 2 mid', 'tbwkt_dthi2' : 'wkts bat 2 dth' }\n",
    "\"\"\"\n"
   ]
  },
  {
   "cell_type": "code",
   "execution_count": 54,
   "id": "29f65bf1",
   "metadata": {},
   "outputs": [
    {
     "name": "stdout",
     "output_type": "stream",
     "text": [
      "2023-05-07 17:30:02.575488\n"
     ]
    }
   ],
   "source": [
    "\n",
    "gfilename = 'gstats.xlsx'\n",
    "\n",
    "gexp.to_excel(exp_location + gfilename, index = False)\n",
    "\n",
    "print(dt.now())\n"
   ]
  },
  {
   "cell_type": "markdown",
   "id": "778d5b59",
   "metadata": {},
   "source": [
    "# THE END"
   ]
  },
  {
   "cell_type": "code",
   "execution_count": null,
   "id": "3cdde1f2",
   "metadata": {},
   "outputs": [],
   "source": []
  },
  {
   "cell_type": "code",
   "execution_count": null,
   "id": "58cd6152",
   "metadata": {},
   "outputs": [],
   "source": []
  },
  {
   "cell_type": "markdown",
   "id": "d047ed7b",
   "metadata": {},
   "source": [
    "### Transpose"
   ]
  },
  {
   "cell_type": "code",
   "execution_count": null,
   "id": "1b9998e6",
   "metadata": {},
   "outputs": [],
   "source": [
    "\n",
    "df_bat_transpose = batting_match_level_df.copy()\n",
    "df_bat_transpose['game.num'] = 'G' + df_bat_transpose['m.num'].astype(str).str.zfill(2)\n",
    "\n",
    "df_bat_transpose.sort_values(by = 'm.num', ascending = False)\n",
    "\n",
    "batting_gwise = df_bat_transpose.pivot(index= ['bat_tm','bat'], columns= ['game.num'], values= ['tr']).reset_index()\n",
    "\n",
    "# Fixing multi-level columns\n",
    "#batting_gwise.columns = batting_gwise.columns.map(lambda x: f'{x[1]}.{x[0]}')\n",
    "\n",
    "# Flatten only multi-level column index\n",
    "batting_gwise.columns = batting_gwise.columns.map( lambda x: f'{x[0]}.{x[1]}' if len(x) > 1 else x[0] )\n",
    "\n",
    "# Reset index\n",
    "batting_gwise = batting_gwise.reset_index(drop = True).rename(columns = {'bat_tm.':'bat_tm','bat.':'bat'})\n"
   ]
  },
  {
   "cell_type": "code",
   "execution_count": null,
   "id": "85edd247",
   "metadata": {},
   "outputs": [],
   "source": [
    "\n",
    "print(batting_gwise.shape)\n",
    "print()\n",
    "print(batting_gwise.columns.values.tolist())\n"
   ]
  },
  {
   "cell_type": "code",
   "execution_count": null,
   "id": "96288823",
   "metadata": {},
   "outputs": [],
   "source": [
    "\n",
    "display(batting_gwise)\n"
   ]
  },
  {
   "cell_type": "code",
   "execution_count": null,
   "id": "423b0344",
   "metadata": {},
   "outputs": [],
   "source": []
  },
  {
   "cell_type": "markdown",
   "id": "bdb5f80e",
   "metadata": {},
   "source": [
    "### Bowling stats"
   ]
  },
  {
   "cell_type": "code",
   "execution_count": null,
   "id": "7c51e055",
   "metadata": {},
   "outputs": [],
   "source": [
    "\n",
    "print(master_df.shape)\n",
    "\n",
    "# master_df for each phase of the game\n",
    "powp_df = master_df[master_df['f.ov.powp'] != 0]\n",
    "mid_df = master_df[master_df['f.ov.midd'] != 0]\n",
    "dth_df = master_df[master_df['f.ov.deat'] != 0]\n",
    "\n",
    "print(powp_df.shape)\n",
    "print(mid_df.shape)\n",
    "print(dth_df.shape)\n",
    "\n",
    "# Group the DataFrames by the bowler, batting team, and match number\n",
    "#powp_grouped = powp_df.groupby(['bow_tm', 'bow', 'm.num']).agg(tot_ov_powp = ('over_num','nunique')).reset_index()\n",
    "powp_grouped = powp_df.groupby(['bow_tm', 'bow', 'm.num']).agg({'over_num':'nunique'}).reset_index().rename(columns = {'over_num':'tbov.powp'})\n",
    "mid_grouped = mid_df.groupby(['bow_tm', 'bow', 'm.num']).agg({'over_num':'nunique'}).reset_index().rename(columns = {'over_num':'tbov.mid'})\n",
    "dth_grouped = dth_df.groupby(['bow_tm', 'bow', 'm.num']).agg({'over_num':'nunique'}).reset_index().rename(columns = {'over_num':'tbov.dth'})\n"
   ]
  },
  {
   "cell_type": "code",
   "execution_count": null,
   "id": "d86fba29",
   "metadata": {},
   "outputs": [],
   "source": [
    "\n",
    "# Reset the index of bowling_match_level_df\n",
    "#bow_grouped_df.reset_index()\n",
    "\n",
    "bowling_match_level_df = bowling_match_level_df_pre.reset_index()\n",
    "\n",
    "# Merge the unique overs bowled in each phase back to the bowling_match_level_df\n",
    "bowling_match_level_df = bowling_match_level_df.merge(powp_grouped, on=['bow_tm', 'bow', 'm.num'], how='left')\n",
    "bowling_match_level_df = bowling_match_level_df.merge(mid_grouped, on=['bow_tm', 'bow', 'm.num'], how='left')\n",
    "bowling_match_level_df = bowling_match_level_df.merge(dth_grouped, on=['bow_tm', 'bow', 'm.num'], how='left')\n"
   ]
  },
  {
   "cell_type": "code",
   "execution_count": null,
   "id": "40ed92cc",
   "metadata": {},
   "outputs": [],
   "source": [
    "\n",
    "print(bowling_match_level_df.columns.values.tolist())\n"
   ]
  },
  {
   "cell_type": "code",
   "execution_count": null,
   "id": "bbf40c69",
   "metadata": {},
   "outputs": [],
   "source": [
    "\n",
    "# BOWLING\n",
    "bowling_match_level_df['f.cp.pts3w'] = bowling_match_level_df['tbwkt'].apply(lambda x : 4 if x >= 3 else 0 )\n",
    "bowling_match_level_df['f.cp.pts4w'] = bowling_match_level_df['tbwkt'].apply(lambda x : 8 if x >= 4 else 0 )\n",
    "bowling_match_level_df['f.cp.pts5w'] = bowling_match_level_df['tbwkt'].apply(lambda x : 16 if x >= 5 else 0 )\n",
    "\n",
    "bowling_match_level_df['tbecon'] = ( bowling_match_level_df['tbrc'] * 6 ) / bowling_match_level_df['tbb']\n",
    "\n",
    "bowling_match_level_df['f.cp.ptsecon'] = bowling_match_level_df.apply(lambda x : (2*6)/x.tbb if (5 <= x.tbecon) & ( x.tbecon < 6) \\\n",
    "                                                            else ( (4*6)/x.tbb if (5 <= x.tbecon) & ( x.tbecon < 6) else 0 )\\\n",
    "                                                , axis =1)\n"
   ]
  },
  {
   "cell_type": "code",
   "execution_count": null,
   "id": "e1b7bec9",
   "metadata": {},
   "outputs": [],
   "source": [
    "\n",
    "display(bowling_match_level_df.head(3))\n"
   ]
  },
  {
   "cell_type": "code",
   "execution_count": null,
   "id": "4cc6645c",
   "metadata": {},
   "outputs": [],
   "source": [
    "\n",
    "bowling_match_level_df.describe()\n"
   ]
  },
  {
   "cell_type": "code",
   "execution_count": null,
   "id": "4667eb17",
   "metadata": {},
   "outputs": [],
   "source": [
    "\n",
    "# QC\n",
    "# bowling_match_level_df[bowling_match_level_df['tov.powp'] == 4]\n"
   ]
  },
  {
   "cell_type": "code",
   "execution_count": null,
   "id": "12417c97",
   "metadata": {},
   "outputs": [],
   "source": []
  },
  {
   "cell_type": "markdown",
   "id": "23a73fa3",
   "metadata": {},
   "source": [
    "## Bowling Transpose"
   ]
  },
  {
   "cell_type": "code",
   "execution_count": null,
   "id": "f984ee96",
   "metadata": {},
   "outputs": [],
   "source": [
    "\n",
    "df_bow_transpose = bowling_match_level_df.copy()\n",
    "df_bow_transpose['game.num'] = 'G' + df_bow_transpose['m.num'].astype(str).str.zfill(2)\n",
    "\n",
    "df_bow_transpose.sort_values(by = 'game.num', ascending = True)\n",
    "\n",
    "bowling_gwise = df_bow_transpose.pivot( index= ['bow_tm','bow'], columns= ['game.num'], values= ['tbwkt'] ).reset_index()\n",
    "\n",
    "# Fixing multi-level columns\n",
    "#bowling_gwise.columns = bowling_gwise.columns.map(lambda x: f'{x[1]}.{x[0]}')\n",
    "\n",
    "# Flatten only multi-level column index\n",
    "bowling_gwise.columns = bowling_gwise.columns.map( lambda x: f'{x[0]}.{x[1]}' if len(x) > 1 else x[0] )\n",
    "\n",
    "# Reset index\n",
    "bowling_gwise = bowling_gwise.reset_index(drop = True).rename(columns = {'bow_tm.':'bow_tm','bow.':'bow'})\n"
   ]
  },
  {
   "cell_type": "code",
   "execution_count": null,
   "id": "706d5b19",
   "metadata": {},
   "outputs": [],
   "source": [
    "\n",
    "print(bowling_gwise.shape)\n",
    "print()\n",
    "print(bowling_gwise.columns.values.tolist())\n"
   ]
  },
  {
   "cell_type": "code",
   "execution_count": null,
   "id": "8f294dbb",
   "metadata": {},
   "outputs": [],
   "source": [
    "\n",
    "display(bowling_gwise)\n"
   ]
  },
  {
   "cell_type": "code",
   "execution_count": null,
   "id": "c13b5228",
   "metadata": {},
   "outputs": [],
   "source": []
  },
  {
   "cell_type": "markdown",
   "id": "cba32096",
   "metadata": {},
   "source": [
    "## MERGE"
   ]
  },
  {
   "cell_type": "code",
   "execution_count": null,
   "id": "36f903d9",
   "metadata": {},
   "outputs": [],
   "source": [
    "\n",
    "### MERGE BAT AND BOW DF\n",
    "\n",
    "# Reset the index for both DataFrames to prepare for merging\n",
    "batmldf = batting_match_level_df.reset_index(drop = True)\n",
    "bowmldf = bowling_match_level_df.reset_index(drop = True)\n",
    "\n",
    "#dropcols = ['bow_tm','bow']\n",
    "dropcols = []\n",
    "\n",
    "# Merge the batting figures with the bowling stats\n",
    "merged_predf = pd.merge( batmldf, bowmldf, \n",
    "                     left_on=['bat_tm', 'bat', 'm.num'],\n",
    "                     right_on=['bow_tm', 'bow', 'm.num'],\n",
    "                     how='outer', \n",
    "                     suffixes=('_bat', '_bowl'))#.rename(columns = {'bat_tm':'tm', 'bat':'name' }).drop(columns = dropcols)\n",
    "\n",
    "print(merged_predf.shape)\n",
    "print(merged_predf.columns.values.tolist())\n",
    "\n",
    "# Replace NaN values with 0 in the merged DataFrame\n",
    "#merged_predf.fillna(0, inplace=True)\n",
    "\n"
   ]
  },
  {
   "cell_type": "code",
   "execution_count": null,
   "id": "38493394",
   "metadata": {},
   "outputs": [],
   "source": [
    "\n",
    "# Function to combine two columns with condition\n",
    "def combine_columns(row, col1, col2):\n",
    "    return row[col1] if pd.notna(row[col1]) and row[col1] != '' else row[col2]\n",
    "\n",
    "# Create a new column using the custom function\n",
    "merged_predf['tm'] = merged_predf.apply(lambda row: combine_columns(row, 'bat_tm', 'bow_tm'), axis=1)\n",
    "merged_predf['name'] = merged_predf.apply(lambda row: combine_columns(row, 'bat', 'bow'), axis=1)\n"
   ]
  },
  {
   "cell_type": "code",
   "execution_count": null,
   "id": "10a65de2",
   "metadata": {},
   "outputs": [],
   "source": [
    "\n",
    "display(merged_predf.tail(5))\n"
   ]
  },
  {
   "cell_type": "code",
   "execution_count": null,
   "id": "b1a08b86",
   "metadata": {},
   "outputs": [],
   "source": [
    "\n",
    "#merged_df.to_csv(exp_location + 'merged.csv', index = False)\n"
   ]
  },
  {
   "cell_type": "markdown",
   "id": "fceb7bc3",
   "metadata": {},
   "source": [
    "### MAIN RUP"
   ]
  },
  {
   "cell_type": "code",
   "execution_count": null,
   "id": "0e9a8ba1",
   "metadata": {},
   "outputs": [],
   "source": [
    "\n",
    "#### Rollup at a Player Level\n",
    "\n",
    "# Replace NaN values with False in the mask\n",
    "mask = merged_predf.tm.str.contains(team_for_code).fillna(False)\n",
    "\n",
    "# Apply the mask to filter the DataFrame\n",
    "#merged_for_team_only = merged_df[merged_df.tm.str.contains(team_for_code)]\n",
    "merged_for_team_only = merged_predf[mask]\n",
    "\n",
    "pstats = merged_for_team_only.groupby(['tm', 'name']).agg({\n",
    "    'batnum': np.min,\n",
    "    'm.num': 'nunique',\n",
    "    'tr': 'sum',\n",
    "    'tbf': 'sum',\n",
    "    'tbinn': 'sum',\n",
    "    'tr_pp': 'sum',\n",
    "    'tbf_pp': 'sum',\n",
    "    'tout_pp': 'sum',\n",
    "    'tr_mid': 'sum',\n",
    "    'tbf_mid': 'sum',\n",
    "    'tout_mid': 'sum',\n",
    "    'tr_dth': 'sum',\n",
    "    'tbf_dth': 'sum',\n",
    "    'tout_dth': 'sum',\n",
    "    'f.cp.pts30': 'sum',\n",
    "    'f.cp.pts50': 'sum',\n",
    "    'f.cp.pts100': 'sum',\n",
    "    'f.cp.pts0': 'sum',\n",
    "    'tbb': 'sum',\n",
    "    'tbrc': 'sum',\n",
    "    'tbwkt': 'sum',\n",
    "    'tbov': 'sum',\n",
    "    'tbov.powp':'sum', \n",
    "    'tbov.mid':'sum', \n",
    "    'tbov.dth':'sum',\n",
    "    'tbrc_powp': 'sum',\n",
    "    'tbrc_mid': 'sum',\n",
    "    'tbrc_dth': 'sum',\n",
    "    'tbwkt_powp': 'sum',\n",
    "    'tbwkt_mid': 'sum',\n",
    "    'tbwkt_dth': 'sum'\n",
    "}).reset_index().rename(columns = {'batnum' : 'batnum_min'})\n",
    "\n",
    "print(pstats.shape)\n"
   ]
  },
  {
   "cell_type": "code",
   "execution_count": null,
   "id": "d032891d",
   "metadata": {},
   "outputs": [],
   "source": [
    "\n",
    "print(pstats.columns.values.tolist())\n"
   ]
  },
  {
   "cell_type": "code",
   "execution_count": null,
   "id": "7af532f7",
   "metadata": {},
   "outputs": [],
   "source": [
    "\n",
    "#### Add the linups data to the pstats dataset before more merges\n",
    "\n",
    "lups = pd.read_excel(loc_lups + 'Tags.xlsx')\n",
    "\n",
    "print(lups.shape)\n",
    "print(lups.columns.values.tolist())\n",
    "\n",
    "lpstats = pd.merge(lups, pstats, how = 'right', on = ['tm','name'])\n",
    "\n",
    "print(lpstats.shape)\n",
    "print()\n",
    "print(lpstats.columns.values.tolist())\n"
   ]
  },
  {
   "cell_type": "code",
   "execution_count": null,
   "id": "1cd9240e",
   "metadata": {},
   "outputs": [],
   "source": [
    "# Now check the gwise battin and bowling stats to append to pstats"
   ]
  },
  {
   "cell_type": "code",
   "execution_count": null,
   "id": "c5574c68",
   "metadata": {},
   "outputs": [],
   "source": [
    "\n",
    "print(batting_gwise.columns.values.tolist())\n",
    "print()\n",
    "print(bowling_gwise.columns.values.tolist())\n",
    "print()\n"
   ]
  },
  {
   "cell_type": "code",
   "execution_count": null,
   "id": "158762ff",
   "metadata": {},
   "outputs": [],
   "source": [
    "\n",
    "# Merge the batting & bowling gwise stats\n",
    "merged_interim_df1 = pd.merge( lpstats, batting_gwise,\n",
    "                     left_on=['tm', 'name'],\n",
    "                     right_on=['bat_tm', 'bat'],\n",
    "                     how='left' )\n",
    "\n",
    "print()\n",
    "print(merged_interim_df1.shape)\n",
    "print(merged_interim_df1.columns.values.tolist())\n",
    "\n",
    "\n",
    "# Merge the batting & bowling gwise stats\n",
    "merged_interim_df2 = pd.merge( merged_interim_df1, bowling_gwise, \n",
    "                     left_on=['tm', 'name'],\n",
    "                     right_on=['bow_tm', 'bow'],\n",
    "                     how='left' )\n",
    "\n",
    "print()\n",
    "print(merged_interim_df2.shape)\n",
    "print(merged_interim_df2.columns.values.tolist())\n"
   ]
  },
  {
   "cell_type": "code",
   "execution_count": null,
   "id": "d997e1a6",
   "metadata": {},
   "outputs": [],
   "source": [
    "\n",
    "print(merged_interim_df2.tm.unique())\n"
   ]
  },
  {
   "cell_type": "code",
   "execution_count": null,
   "id": "19103510",
   "metadata": {},
   "outputs": [],
   "source": [
    "\n",
    "display(merged_interim_df2.head(5))\n"
   ]
  },
  {
   "cell_type": "markdown",
   "id": "3397e63e",
   "metadata": {},
   "source": [
    "## Percentage split"
   ]
  },
  {
   "cell_type": "code",
   "execution_count": null,
   "id": "9520b06b",
   "metadata": {},
   "outputs": [],
   "source": [
    "\n",
    "pct_splits = merged_interim_df2.copy()\n"
   ]
  },
  {
   "cell_type": "code",
   "execution_count": null,
   "id": "9741e995",
   "metadata": {},
   "outputs": [],
   "source": [
    "\n",
    "pct_splits['tr%.pp'] = round(100*pct_splits['tr_pp'] / ( pct_splits['tr'] ),0)\n",
    "pct_splits['tr%.mid'] = round(100*pct_splits['tr_mid'] / ( pct_splits['tr'] ),0)\n",
    "pct_splits['tr%.dth'] = round(100*pct_splits['tr_dth'] / ( pct_splits['tr'] ),0)\n"
   ]
  },
  {
   "cell_type": "code",
   "execution_count": null,
   "id": "63c406a1",
   "metadata": {},
   "outputs": [],
   "source": [
    "\n",
    "pct_splits['tbov%.pp'] = round(100*pct_splits['tbov.powp'] / ( pct_splits['tbov'] ),0)\n",
    "pct_splits['tbov%.mid'] = round(100*pct_splits['tbov.mid'] / ( pct_splits['tbov'] ),0)\n",
    "pct_splits['tbov%.dth'] = round(100*pct_splits['tbov.dth'] / ( pct_splits['tbov'] ),0)\n"
   ]
  },
  {
   "cell_type": "code",
   "execution_count": null,
   "id": "fa9ccd99",
   "metadata": {},
   "outputs": [],
   "source": [
    "\n",
    "pct_splits['tbwkt%.pp'] = round(100*pct_splits['tbwkt_powp'] / ( pct_splits['tbwkt'] ),0)\n",
    "pct_splits['tbwkt%.mid'] = round(100*pct_splits['tbwkt_mid'] / ( pct_splits['tbwkt'] ),0)\n",
    "pct_splits['tbwkt%.dth'] = round(100*pct_splits['tbwkt_dth'] / ( pct_splits['tbwkt'] ),0)\n"
   ]
  },
  {
   "cell_type": "code",
   "execution_count": null,
   "id": "5b643953",
   "metadata": {},
   "outputs": [],
   "source": [
    "\n",
    "print(pct_splits.shape)\n",
    "print()\n",
    "print(pct_splits.columns.values.tolist())\n",
    "print()\n"
   ]
  },
  {
   "cell_type": "code",
   "execution_count": null,
   "id": "9dc027d9",
   "metadata": {},
   "outputs": [],
   "source": [
    "\n",
    "\n",
    "pdetails = ['name','bowltype','bowlarm','bowlcat']\n",
    "\n",
    "tr_phs = ['tr_pp','tr_mid','tr_dth']\n",
    "tbf_phs = ['tbf_pp','tbf_mid','tbf_dth']\n",
    "tout_phs = ['tout_pp','tout_mid','tout_dth']\n",
    "\n",
    "tbov_phs = ['tbov.powp','tbov.mid','tbov.dth']\n",
    "tbwkt_phs = ['tbwkt_powp','tbwkt_mid','tbwkt_dth']\n",
    "tbrc_phs = ['tbrc_powp','tbrc_mid','tbrc_dth']\n",
    "\n",
    "f_cp = ['f.cp.pts30', 'f.cp.pts50', 'f.cp.pts100', 'f.cp.pts0']\n",
    "\n",
    "misc = ['bat_tm','bow_tm']\n"
   ]
  },
  {
   "cell_type": "code",
   "execution_count": null,
   "id": "e7803dd2",
   "metadata": {},
   "outputs": [],
   "source": [
    "\n",
    "#dfexp = pct_splits.drop(columns = pdetails + tr_phs + tbf_phs + tout_phs + tbov_phs + tbwkt_phs + tbrc_phs + f_cp + misc)\n",
    "dfexp = pct_splits.copy()\n"
   ]
  },
  {
   "cell_type": "code",
   "execution_count": null,
   "id": "c1321409",
   "metadata": {},
   "outputs": [],
   "source": [
    "\n",
    "print(dfexp.columns.values.tolist())\n"
   ]
  },
  {
   "cell_type": "code",
   "execution_count": null,
   "id": "5a871ad5",
   "metadata": {},
   "outputs": [],
   "source": [
    "\n",
    "exp_file = f'pstats_v01_{team_for_code}.xlsx'\n",
    "dfexp.to_excel(exp_location + exp_file, index = False)\n"
   ]
  },
  {
   "cell_type": "code",
   "execution_count": null,
   "id": "1e24ef87",
   "metadata": {},
   "outputs": [],
   "source": []
  },
  {
   "cell_type": "code",
   "execution_count": null,
   "id": "2a692246",
   "metadata": {},
   "outputs": [],
   "source": []
  },
  {
   "cell_type": "markdown",
   "id": "61a859d9",
   "metadata": {},
   "source": [
    "### Fantasy Points Totals"
   ]
  },
  {
   "cell_type": "code",
   "execution_count": null,
   "id": "f8a56227",
   "metadata": {},
   "outputs": [],
   "source": [
    "'''\n",
    "#Create Fantasy pts crickpe version\n",
    "\n",
    "pstats['bat_pts'] = master_df['rs'].fillna(0) + master_df['four'].fillna(0) + master_df['six'].fillna(0)*2 \\\n",
    "    + master_df['pts_for_thrty'].fillna(0) + master_df['pts_for_fifty'].fillna(0) + master_df['pts_for_hundy'].fillna(0) + master_df['pts_for_ducky'].fillna(0)\n",
    "\n",
    "master_df['bow_pts'] = master_df['wkt'].fillna(0)*25 \\\n",
    "    + master_df['pts_for_3w'].fillna(0) + master_df['pts_for_4w'].fillna(0) + master_df['pts_for_5w'].fillna(0) \\\n",
    "        + master_df['pts_for_bow_econ'].fillna(0)\n",
    "\n",
    "master_df['pts_crickpe'] = master_df['bat_pts'].fillna(0) + master_df['bow_pts'].fillna(0)\n",
    "'''"
   ]
  },
  {
   "cell_type": "code",
   "execution_count": null,
   "id": "2dc0cca1",
   "metadata": {},
   "outputs": [],
   "source": [
    "\n",
    "# Calculate strike rates for each phase of the game\n",
    "#df_plyr_mtch['sr_powp'] = (df_plyr_mtch['tot_runs_powp'] / df_plyr_mtch['tot_balls_powp']) * 100\n",
    "#df_plyr_mtch['sr_mid'] = (df_plyr_mtch['tot_runs_mid'] / df_plyr_mtch['tot_balls_mid']) * 100\n",
    "#df_plyr_mtch['sr_dth'] = (df_plyr_mtch['tot_runs_dth'] / df_plyr_mtch['tot_balls_dth']) * 100\n"
   ]
  },
  {
   "cell_type": "code",
   "execution_count": null,
   "id": "ab5972d0",
   "metadata": {},
   "outputs": [],
   "source": []
  }
 ],
 "metadata": {
  "kernelspec": {
   "display_name": "Python 3 (ipykernel)",
   "language": "python",
   "name": "python3"
  },
  "language_info": {
   "codemirror_mode": {
    "name": "ipython",
    "version": 3
   },
   "file_extension": ".py",
   "mimetype": "text/x-python",
   "name": "python",
   "nbconvert_exporter": "python",
   "pygments_lexer": "ipython3",
   "version": "3.8.8"
  }
 },
 "nbformat": 4,
 "nbformat_minor": 5
}
