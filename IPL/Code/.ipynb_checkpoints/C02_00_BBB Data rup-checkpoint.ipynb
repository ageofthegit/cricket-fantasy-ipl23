{
 "cells": [
  {
   "cell_type": "code",
   "execution_count": 1,
   "id": "6571effe",
   "metadata": {},
   "outputs": [],
   "source": [
    "\n",
    "import os, json\n",
    "import numpy as np, pandas as pd\n",
    "\n",
    "from pprint import pprint\n",
    "from datetime import datetime as dt\n"
   ]
  },
  {
   "cell_type": "code",
   "execution_count": 6,
   "id": "3fcd2a52",
   "metadata": {},
   "outputs": [],
   "source": [
    "\n",
    "csv_location = 'C:\\\\Users\\\\karan\\\\Documents\\\\Cricket-Analytics\\\\IPL\\\\Data\\\\ipl_json_to_csv'\n"
   ]
  },
  {
   "cell_type": "code",
   "execution_count": 7,
   "id": "20c19528",
   "metadata": {},
   "outputs": [
    {
     "name": "stdout",
     "output_type": "stream",
     "text": [
      "C:\\Users\\karan\\Documents\\Cricket-Analytics\\IPL\\Data\\ipl_json_to_csv\n",
      "\n",
      "2023-04-19\n"
     ]
    }
   ],
   "source": [
    "\n",
    "print(csv_location)\n",
    "print()\n",
    "print(dt.now().date())\n"
   ]
  },
  {
   "cell_type": "code",
   "execution_count": 16,
   "id": "df17e88a",
   "metadata": {},
   "outputs": [
    {
     "name": "stdout",
     "output_type": "stream",
     "text": [
      "19\n",
      "['1359475_T20_2023_2023_03_31_Chennai Super Kings_v_Gujarat Titans.csv',\n",
      " '1359476_T20_2023_2023_04_01_Punjab Kings_v_Kolkata Knight Riders.csv',\n",
      " '1359477_T20_2023_2023_04_01_Lucknow Super Giants_v_Delhi Capitals.csv',\n",
      " '1359478_T20_2023_2023_04_02_Rajasthan Royals_v_Sunrisers Hyderabad.csv',\n",
      " '1359479_T20_2023_2023_04_02_Mumbai Indians_v_Royal Challengers Bangalore.csv']\n"
     ]
    }
   ],
   "source": [
    "\n",
    "folder_path = csv_location\n",
    "\n",
    "# Get a list of all files and directories in the folder\n",
    "all_files_and_dirs = os.listdir(folder_path)\n",
    "\n",
    "# Filter the list to include only files (exclude directories)\n",
    "files_only = [f for f in all_files_and_dirs if os.path.isfile(os.path.join(folder_path, f))]\n",
    "\n",
    "# Print total # of files\n",
    "print(len(files_only))\n",
    "\n",
    "# Print names of first few files \n",
    "pprint(files_only[:5])\n"
   ]
  },
  {
   "cell_type": "code",
   "execution_count": 17,
   "id": "d7caeaff",
   "metadata": {},
   "outputs": [
    {
     "name": "stdout",
     "output_type": "stream",
     "text": [
      "19\n"
     ]
    }
   ],
   "source": [
    "\n",
    "files_list = files_only\n",
    "total_files = len(files_list)\n",
    "\n",
    "#print(np.arange(total_files))\n",
    "print(total_files)\n"
   ]
  },
  {
   "cell_type": "code",
   "execution_count": 10,
   "id": "afc39671",
   "metadata": {},
   "outputs": [],
   "source": [
    "\n",
    "#All file numbers > 1359475 are #2023 IPL onwards\n",
    "#All file numbers > 1304047 are #2022 IPL onwards\n"
   ]
  },
  {
   "cell_type": "code",
   "execution_count": null,
   "id": "6cc1345d",
   "metadata": {},
   "outputs": [],
   "source": []
  },
  {
   "cell_type": "code",
   "execution_count": 18,
   "id": "a6cfe62b",
   "metadata": {},
   "outputs": [
    {
     "name": "stdout",
     "output_type": "stream",
     "text": [
      "(442, 18)\n"
     ]
    }
   ],
   "source": [
    "\n",
    "# initialize an empty DataFrame to store all the data\n",
    "master_df = pd.DataFrame()\n",
    "\n",
    "# iterate through each file in the directory\n",
    "for file_name in os.listdir(csv_location):\n",
    "    if file_name.endswith('.csv'):\n",
    "        # read the CSV file into a DataFrame\n",
    "        file_path = os.path.join(csv_location, file_name)\n",
    "        df = pd.read_csv(file_path)\n",
    "        \n",
    "        # append the data to the master DataFrame\n",
    "        master_df = master_df.append(df)\n",
    "\n",
    "# print the master DataFrame\n",
    "print(master_df.shape)\n"
   ]
  },
  {
   "cell_type": "code",
   "execution_count": 12,
   "id": "5aef0d10",
   "metadata": {},
   "outputs": [
    {
     "name": "stdout",
     "output_type": "stream",
     "text": [
      "['inn_bat',\n",
      " 'name',\n",
      " 'mnum',\n",
      " 'rs',\n",
      " 'four',\n",
      " 'six',\n",
      " 'out',\n",
      " 'bowf',\n",
      " 'inn_bow',\n",
      " 'rc',\n",
      " 'balb',\n",
      " 'wkt',\n",
      " 'season',\n",
      " 'type',\n",
      " 'date',\n",
      " 'city',\n",
      " 'teams',\n",
      " 'team_nm']\n"
     ]
    }
   ],
   "source": [
    "\n",
    "pprint(master_df.columns.values.tolist())\n"
   ]
  },
  {
   "cell_type": "code",
   "execution_count": 21,
   "id": "80cd9cbe",
   "metadata": {},
   "outputs": [],
   "source": [
    "\n",
    "#Variables to help with fantasy pts scoring\n",
    "\n",
    "# BATTING\n",
    "master_df['pts_for_thrty'] = master_df['rs'].apply(lambda x : 4 if x >= 30 else 0 )\n",
    "master_df['pts_for_fifty'] = master_df['rs'].apply(lambda x : 8 if x >= 50 else 0 )\n",
    "master_df['pts_for_hundy'] = master_df['rs'].apply(lambda x : 16 if x >= 100 else 0 )\n",
    "master_df['pts_for_ducky'] = master_df['rs'].apply(lambda x : -2 if x == 0 else 0 )\n",
    "\n",
    "\n",
    "# BOWLING\n",
    "master_df['pts_for_3w'] = master_df['wkt'].apply(lambda x : 4 if x >= 3 else 0 )\n",
    "master_df['pts_for_4w'] = master_df['wkt'].apply(lambda x : 8 if x >= 4 else 0 )\n",
    "master_df['pts_for_5w'] = master_df['wkt'].apply(lambda x : 16 if x >= 5 else 0 )\n",
    "\n",
    "master_df['bow_econ'] = ( master_df['rc'] * 6 ) / master_df['balb']\n",
    "\n",
    "master_df['pts_for_bow_econ'] = master_df.apply(lambda x : (2*6)/x.balb if (5 <= x.bow_econ) & ( x.bow_econ < 6) \\\n",
    "                                                            else ( (4*6)/x.balb if (5 <= x.bow_econ) & ( x.bow_econ < 6) else 0 )\\\n",
    "                                                , axis =1)\n"
   ]
  },
  {
   "cell_type": "code",
   "execution_count": null,
   "id": "ca8557d1",
   "metadata": {},
   "outputs": [],
   "source": []
  },
  {
   "cell_type": "code",
   "execution_count": 22,
   "id": "ec338111",
   "metadata": {},
   "outputs": [],
   "source": [
    "\n",
    "#Create Fantasy pts crickpe version\n",
    "\n",
    "master_df['bat_pts'] = master_df['rs'].fillna(0) + master_df['four'].fillna(0) + master_df['six'].fillna(0)*2 \\\n",
    "    + master_df['pts_for_thrty'].fillna(0) + master_df['pts_for_fifty'].fillna(0) + master_df['pts_for_hundy'].fillna(0) + master_df['pts_for_ducky'].fillna(0)\n",
    "\n",
    "master_df['bow_pts'] = master_df['wkt'].fillna(0)*25 \\\n",
    "    + master_df['pts_for_3w'].fillna(0) + master_df['pts_for_4w'].fillna(0) + master_df['pts_for_5w'].fillna(0) \\\n",
    "        + master_df['pts_for_bow_econ'].fillna(0)\n",
    "\n",
    "master_df['pts_crickpe'] = master_df['bat_pts'].fillna(0) + master_df['bow_pts'].fillna(0)\n"
   ]
  },
  {
   "cell_type": "code",
   "execution_count": 23,
   "id": "1aeacaf9",
   "metadata": {},
   "outputs": [
    {
     "data": {
      "text/html": [
       "<div>\n",
       "<style scoped>\n",
       "    .dataframe tbody tr th:only-of-type {\n",
       "        vertical-align: middle;\n",
       "    }\n",
       "\n",
       "    .dataframe tbody tr th {\n",
       "        vertical-align: top;\n",
       "    }\n",
       "\n",
       "    .dataframe thead th {\n",
       "        text-align: right;\n",
       "    }\n",
       "</style>\n",
       "<table border=\"1\" class=\"dataframe\">\n",
       "  <thead>\n",
       "    <tr style=\"text-align: right;\">\n",
       "      <th></th>\n",
       "      <th>inn_bat</th>\n",
       "      <th>name</th>\n",
       "      <th>mnum</th>\n",
       "      <th>rs</th>\n",
       "      <th>four</th>\n",
       "      <th>six</th>\n",
       "      <th>out</th>\n",
       "      <th>bowf</th>\n",
       "      <th>inn_bow</th>\n",
       "      <th>rc</th>\n",
       "      <th>...</th>\n",
       "      <th>pts_for_hundy</th>\n",
       "      <th>pts_for_ducky</th>\n",
       "      <th>pts_for_3w</th>\n",
       "      <th>pts_for_4w</th>\n",
       "      <th>pts_for_5w</th>\n",
       "      <th>bow_econ</th>\n",
       "      <th>pts_for_bow_econ</th>\n",
       "      <th>bat_pts</th>\n",
       "      <th>bow_pts</th>\n",
       "      <th>pts_crickpe</th>\n",
       "    </tr>\n",
       "  </thead>\n",
       "  <tbody>\n",
       "    <tr>\n",
       "      <th>0</th>\n",
       "      <td>1</td>\n",
       "      <td>AT Rayudu</td>\n",
       "      <td>1</td>\n",
       "      <td>12.0</td>\n",
       "      <td>0.0</td>\n",
       "      <td>1.0</td>\n",
       "      <td>1.0</td>\n",
       "      <td>12.0</td>\n",
       "      <td>NaN</td>\n",
       "      <td>NaN</td>\n",
       "      <td>...</td>\n",
       "      <td>0</td>\n",
       "      <td>0</td>\n",
       "      <td>0</td>\n",
       "      <td>0</td>\n",
       "      <td>0</td>\n",
       "      <td>NaN</td>\n",
       "      <td>0.0</td>\n",
       "      <td>14.0</td>\n",
       "      <td>0.0</td>\n",
       "      <td>14.0</td>\n",
       "    </tr>\n",
       "    <tr>\n",
       "      <th>1</th>\n",
       "      <td>1</td>\n",
       "      <td>BA Stokes</td>\n",
       "      <td>1</td>\n",
       "      <td>7.0</td>\n",
       "      <td>1.0</td>\n",
       "      <td>0.0</td>\n",
       "      <td>1.0</td>\n",
       "      <td>6.0</td>\n",
       "      <td>NaN</td>\n",
       "      <td>NaN</td>\n",
       "      <td>...</td>\n",
       "      <td>0</td>\n",
       "      <td>0</td>\n",
       "      <td>0</td>\n",
       "      <td>0</td>\n",
       "      <td>0</td>\n",
       "      <td>NaN</td>\n",
       "      <td>0.0</td>\n",
       "      <td>8.0</td>\n",
       "      <td>0.0</td>\n",
       "      <td>8.0</td>\n",
       "    </tr>\n",
       "    <tr>\n",
       "      <th>2</th>\n",
       "      <td>1</td>\n",
       "      <td>DP Conway</td>\n",
       "      <td>1</td>\n",
       "      <td>1.0</td>\n",
       "      <td>0.0</td>\n",
       "      <td>0.0</td>\n",
       "      <td>1.0</td>\n",
       "      <td>6.0</td>\n",
       "      <td>NaN</td>\n",
       "      <td>NaN</td>\n",
       "      <td>...</td>\n",
       "      <td>0</td>\n",
       "      <td>0</td>\n",
       "      <td>0</td>\n",
       "      <td>0</td>\n",
       "      <td>0</td>\n",
       "      <td>NaN</td>\n",
       "      <td>0.0</td>\n",
       "      <td>1.0</td>\n",
       "      <td>0.0</td>\n",
       "      <td>1.0</td>\n",
       "    </tr>\n",
       "    <tr>\n",
       "      <th>3</th>\n",
       "      <td>1</td>\n",
       "      <td>MJ Santner</td>\n",
       "      <td>1</td>\n",
       "      <td>1.0</td>\n",
       "      <td>0.0</td>\n",
       "      <td>0.0</td>\n",
       "      <td>0.0</td>\n",
       "      <td>3.0</td>\n",
       "      <td>2.0</td>\n",
       "      <td>32.0</td>\n",
       "      <td>...</td>\n",
       "      <td>0</td>\n",
       "      <td>0</td>\n",
       "      <td>0</td>\n",
       "      <td>0</td>\n",
       "      <td>0</td>\n",
       "      <td>8.0</td>\n",
       "      <td>0.0</td>\n",
       "      <td>1.0</td>\n",
       "      <td>0.0</td>\n",
       "      <td>1.0</td>\n",
       "    </tr>\n",
       "    <tr>\n",
       "      <th>4</th>\n",
       "      <td>1</td>\n",
       "      <td>MM Ali</td>\n",
       "      <td>1</td>\n",
       "      <td>23.0</td>\n",
       "      <td>4.0</td>\n",
       "      <td>1.0</td>\n",
       "      <td>1.0</td>\n",
       "      <td>16.0</td>\n",
       "      <td>NaN</td>\n",
       "      <td>NaN</td>\n",
       "      <td>...</td>\n",
       "      <td>0</td>\n",
       "      <td>0</td>\n",
       "      <td>0</td>\n",
       "      <td>0</td>\n",
       "      <td>0</td>\n",
       "      <td>NaN</td>\n",
       "      <td>0.0</td>\n",
       "      <td>29.0</td>\n",
       "      <td>0.0</td>\n",
       "      <td>29.0</td>\n",
       "    </tr>\n",
       "  </tbody>\n",
       "</table>\n",
       "<p>5 rows × 30 columns</p>\n",
       "</div>"
      ],
      "text/plain": [
       "   inn_bat        name  mnum    rs  four  six  out  bowf  inn_bow    rc  ...  \\\n",
       "0        1   AT Rayudu     1  12.0   0.0  1.0  1.0  12.0      NaN   NaN  ...   \n",
       "1        1   BA Stokes     1   7.0   1.0  0.0  1.0   6.0      NaN   NaN  ...   \n",
       "2        1   DP Conway     1   1.0   0.0  0.0  1.0   6.0      NaN   NaN  ...   \n",
       "3        1  MJ Santner     1   1.0   0.0  0.0  0.0   3.0      2.0  32.0  ...   \n",
       "4        1      MM Ali     1  23.0   4.0  1.0  1.0  16.0      NaN   NaN  ...   \n",
       "\n",
       "   pts_for_hundy  pts_for_ducky  pts_for_3w pts_for_4w pts_for_5w bow_econ  \\\n",
       "0              0              0           0          0          0      NaN   \n",
       "1              0              0           0          0          0      NaN   \n",
       "2              0              0           0          0          0      NaN   \n",
       "3              0              0           0          0          0      8.0   \n",
       "4              0              0           0          0          0      NaN   \n",
       "\n",
       "  pts_for_bow_econ bat_pts  bow_pts  pts_crickpe  \n",
       "0              0.0    14.0      0.0         14.0  \n",
       "1              0.0     8.0      0.0          8.0  \n",
       "2              0.0     1.0      0.0          1.0  \n",
       "3              0.0     1.0      0.0          1.0  \n",
       "4              0.0    29.0      0.0         29.0  \n",
       "\n",
       "[5 rows x 30 columns]"
      ]
     },
     "metadata": {},
     "output_type": "display_data"
    }
   ],
   "source": [
    "\n",
    "display(master_df.head())\n"
   ]
  },
  {
   "cell_type": "code",
   "execution_count": 24,
   "id": "8b4603ac",
   "metadata": {},
   "outputs": [],
   "source": [
    "\n",
    "exp_location = 'C:\\\\Users\\\\karan\\\\Documents\\\\Cricket-Analytics\\\\IPL\\\\Data\\\\exp\\\\'\n",
    "exp_filename = 'master_df.csv'\n",
    "\n",
    "master_df.to_csv( exp_location + exp_filename, index = False)\n"
   ]
  },
  {
   "cell_type": "code",
   "execution_count": null,
   "id": "8e77ba72",
   "metadata": {},
   "outputs": [],
   "source": []
  }
 ],
 "metadata": {
  "kernelspec": {
   "display_name": "Python 3 (ipykernel)",
   "language": "python",
   "name": "python3"
  },
  "language_info": {
   "codemirror_mode": {
    "name": "ipython",
    "version": 3
   },
   "file_extension": ".py",
   "mimetype": "text/x-python",
   "name": "python",
   "nbconvert_exporter": "python",
   "pygments_lexer": "ipython3",
   "version": "3.8.8"
  }
 },
 "nbformat": 4,
 "nbformat_minor": 5
}
