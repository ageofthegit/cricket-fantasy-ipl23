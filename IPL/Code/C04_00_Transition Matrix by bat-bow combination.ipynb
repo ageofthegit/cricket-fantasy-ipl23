{
 "cells": [
  {
   "cell_type": "code",
   "execution_count": null,
   "id": "3cb5c6bd",
   "metadata": {},
   "outputs": [],
   "source": [
    "\n"
   ]
  },
  {
   "cell_type": "code",
   "execution_count": 1,
   "id": "417d2826",
   "metadata": {},
   "outputs": [],
   "source": [
    "\n",
    "import pandas as pd\n"
   ]
  },
  {
   "cell_type": "code",
   "execution_count": 2,
   "id": "b33306f4",
   "metadata": {},
   "outputs": [],
   "source": [
    "\n",
    "\n",
    "def create_transition_matrix(data, states, state_to_index):\n",
    "    transition_matrix = np.zeros((len(states), len(states)))\n",
    "\n",
    "    for i in range(len(data) - 1):\n",
    "        current_state = (data.iloc[i]['runs'], data.iloc[i]['wkt'])\n",
    "        next_state = (data.iloc[i+1]['runs'], data.iloc[i+1]['wkt'])\n",
    "        transition_matrix[state_to_index[current_state], state_to_index[next_state]] += 1\n",
    "\n",
    "    transition_matrix = transition_matrix / transition_matrix.sum(axis=1, keepdims=True)\n",
    "\n",
    "    return transition_matrix\n"
   ]
  },
  {
   "cell_type": "code",
   "execution_count": 4,
   "id": "6c1af19c",
   "metadata": {},
   "outputs": [],
   "source": [
    "\n",
    "def create_top1_matrices(data, states, state_to_index):\n",
    "    matrices = {}\n",
    "\n",
    "    for batsman_tag in ['RHB', 'LHB']:\n",
    "        for bowler_tag in ['LAFM', 'RAFM', 'RAO', 'RAOB', 'LAO', 'LAOB', 'LAM', 'RAM']:\n",
    "            filtered_data = data[(data['batsman_tag'] == batsman_tag) & (data['bowler_tag'] == bowler_tag)]\n",
    "            if len(filtered_data) > 0:\n",
    "                matrices[(batsman_tag, bowler_tag)] = create_transition_matrix(filtered_data, states, state_to_index)\n",
    "\n",
    "    return matrices\n"
   ]
  },
  {
   "cell_type": "code",
   "execution_count": null,
   "id": "510a5606",
   "metadata": {},
   "outputs": [],
   "source": [
    "\n",
    "# Create the Top-1 level transition matrices\n",
    "top1_matrices = create_top1_matrices(data, states, state_to_index)\n"
   ]
  },
  {
   "cell_type": "code",
   "execution_count": null,
   "id": "c98cf03f",
   "metadata": {},
   "outputs": [],
   "source": [
    "\n",
    "# Example batsman-bowler combinations for the first and second innings\n",
    "first_innings_batsman_bowler_combinations = [('RHB', 'RAFM')] * num_balls  # Replace this with the actual combinations\n",
    "second_innings_batsman_bowler_combinations = [('LHB', 'RAO')] * num_balls  # Replace this with the actual combinations\n",
    "\n",
    "# Simulate the first innings using the top-1 level matrices\n",
    "simulated_first_innings = simulate_ball_by_ball(\n",
    "    first_innings_transition_matrix,\n",
    "    state_to_index,\n",
    "    states,\n",
    "    num_balls,\n",
    "    top1_matrices=top1_matrices,\n",
    "    batsman_bowler_combinations=first_innings_batsman_bowler_combinations,\n",
    ")\n",
    "\n",
    "# Simulate the second innings using the top-1 level matrices\n",
    "simulated_second_innings = simulate_ball_by_ball(\n",
    "    second_innings_transition_matrix,\n",
    "    state_to_index,\n",
    "    states,\n",
    "    num_balls,\n",
    "    target=first_innings_total_runs + 1,\n",
    "    top1_matrices=top1_matrices,\n",
    "    batsman_bowler_combinations=second_innings_batsman_bowler_combinations,\n",
    ")\n"
   ]
  },
  {
   "cell_type": "code",
   "execution_count": null,
   "id": "85403ad4",
   "metadata": {},
   "outputs": [],
   "source": [
    "\n",
    "def simulate_ball_by_ball(transition_matrix, state_to_index, states, num_balls, target=None, top1_matrices=None, batsman_bowler_combinations=None):\n",
    "    current_state = (0, 0)\n",
    "    simulation = []\n",
    "    runs = 0\n",
    "    wickets = 0\n",
    "\n",
    "    # Keep track of the current batsman on strike and non-striker\n",
    "    current_batsman = 0\n",
    "    current_non_striker = 1\n",
    "\n",
    "    for ball in range(num_balls):\n",
    "        if top1_matrices is not None and batsman_bowler_combinations is not None:\n",
    "            batsman_tag, bowler_tag = batsman_bowler_combinations[current_batsman]\n",
    "            combination_matrix = top1_matrices.get((batsman_tag, bowler_tag), None)\n",
    "            if combination_matrix is not None:\n",
    "                transition_matrix = combination_matrix\n",
    "\n",
    "        next_state_probs = transition_matrix[state_to_index[current_state]]\n",
    "        next_state_index = np.random.choice(range(len(states)), p=next_state_probs)\n",
    "        next_state = states[next_state_index]\n",
    "        simulation.append(next_state)\n",
    "        current_state = next_state\n",
    "        runs += next_state[0]\n",
    "        wickets += next_state[1]\n",
    "\n",
    "        # Update the batsman and non-striker positions based on runs scored\n",
    "        if next_state[0] in [1, 3]:\n",
    "            current_batsman, current_non_striker = current_non_striker, current_batsman\n",
    "\n",
    "        # Account for a new batsman coming in after a wicket\n",
    "        if next_state[1] == 1:\n",
    "            current_batsman = wickets + 1\n",
    "\n",
    "        # Change strike at the end of an over\n",
    "        if (ball + 1) % 6 == 0:\n",
    "            current_batsman, current_non_striker = current_non_striker, current_batsman\n",
    "\n",
    "        if target is not None:\n",
    "            if runs >= target or wickets == 10:\n",
    "                break\n",
    "\n",
    "    return simulation\n",
    "\n"
   ]
  },
  {
   "cell_type": "code",
   "execution_count": null,
   "id": "9852368e",
   "metadata": {},
   "outputs": [],
   "source": []
  }
 ],
 "metadata": {
  "kernelspec": {
   "display_name": "Python 3 (ipykernel)",
   "language": "python",
   "name": "python3"
  },
  "language_info": {
   "codemirror_mode": {
    "name": "ipython",
    "version": 3
   },
   "file_extension": ".py",
   "mimetype": "text/x-python",
   "name": "python",
   "nbconvert_exporter": "python",
   "pygments_lexer": "ipython3",
   "version": "3.8.8"
  }
 },
 "nbformat": 4,
 "nbformat_minor": 5
}
